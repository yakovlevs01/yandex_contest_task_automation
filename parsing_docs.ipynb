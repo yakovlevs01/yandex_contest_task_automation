{
 "cells": [
  {
   "cell_type": "code",
   "execution_count": 1,
   "metadata": {},
   "outputs": [
    {
     "data": {
      "text/plain": [
       "True"
      ]
     },
     "execution_count": 1,
     "metadata": {},
     "output_type": "execute_result"
    }
   ],
   "source": [
    "from dotenv import load_dotenv\n",
    "from tqdm import tqdm\n",
    "\n",
    "load_dotenv()"
   ]
  },
  {
   "cell_type": "code",
   "execution_count": 2,
   "metadata": {},
   "outputs": [],
   "source": [
    "from langchain_openai import ChatOpenAI\n",
    "\n",
    "model = ChatOpenAI(temperature=0, model=\"gpt-3.5-turbo-1106\")"
   ]
  },
  {
   "cell_type": "markdown",
   "metadata": {},
   "source": [
    "# DOCX документ"
   ]
  },
  {
   "cell_type": "code",
   "execution_count": 15,
   "metadata": {},
   "outputs": [],
   "source": [
    "def filter_tasknames_from_str(s: str) -> list[str]:\n",
    "    import re\n",
    "\n",
    "    pattern = r\"\\w+_\\w+_\\d+\\.\\d+\\.\\d+\"\n",
    "    matches = re.findall(pattern, s)\n",
    "    return sorted(set(matches))\n",
    "\n",
    "\n",
    "def text_preprocess(text: str) -> str:\n",
    "    import re\n",
    "\n",
    "    res = re.sub(r\"\\n+\", \"\\n\", text)\n",
    "    res = res.replace(\"Эталон.\", \"Решение:\")\n",
    "    return res\n",
    "\n",
    "\n",
    "def split_text_by_tasknames(text: str, tasknames: list[str]) -> list[str]:\n",
    "    res = []\n",
    "    for i in range(len(tasknames) - 1):\n",
    "        res.append(text[text.find(tasknames[i]) : text.find(tasknames[i + 1])])\n",
    "\n",
    "    res.append(text[text.find(tasknames[-1]) :])\n",
    "    return res\n",
    "\n",
    "\n",
    "def form_dict_with_props(d):\n",
    "    return dict(d[\"task_data\"] | d[\"verificated\"])"
   ]
  },
  {
   "cell_type": "code",
   "execution_count": 16,
   "metadata": {},
   "outputs": [],
   "source": [
    "from langchain_community.vectorstores import FAISS\n",
    "from langchain_openai import OpenAIEmbeddings\n",
    "from langchain.output_parsers.openai_functions import JsonOutputFunctionsParser\n",
    "from langchain_core.runnables import RunnablePassthrough\n",
    "from langchain_core.prompts import ChatPromptTemplate\n",
    "from operator import itemgetter\n",
    "from langchain_community.document_loaders import Docx2txtLoader"
   ]
  },
  {
   "cell_type": "markdown",
   "metadata": {},
   "source": [
    "# TEST"
   ]
  },
  {
   "cell_type": "code",
   "execution_count": 17,
   "metadata": {},
   "outputs": [],
   "source": [
    "# Для тестов длинных цепочек 3\n",
    "\n",
    "\n",
    "funcs = [\n",
    "    {\n",
    "        \"name\": \"task_info\",\n",
    "        \"description\": \"Analyze context and return task description and solution\",\n",
    "        \"parameters\": {\n",
    "            \"type\": \"object\",\n",
    "            \"properties\": {\n",
    "                \"name\": {\n",
    "                    \"type\": \"string\",\n",
    "                    \"description\": \"Name of the task. Example: home_beginner_2.5.3\",\n",
    "                },\n",
    "                \"description\": {\n",
    "                    \"type\": \"string\",\n",
    "                    \"description\": \"Description of the task.  Example: 'Напишите программу, которая считывает два целых числа и выводит их сумму'. If there are no description provided, return empty string.\",\n",
    "                },\n",
    "                \"solution\": {\n",
    "                    \"type\": \"string\",\n",
    "                    \"description\": \"Solution of task written Python (any python code located in task description, with input and print). Example: 'n=int(input())\\nm=int(input())\\nprint(n+m)'. If there are no solution provided, return empty string\",\n",
    "                },\n",
    "            },\n",
    "            \"required\": [\"description\", \"solution\"],\n",
    "        },\n",
    "    },\n",
    "    {\n",
    "        \"name\": \"solution_check\",\n",
    "        \"description\": \"Check correctfulness of solution\",\n",
    "        \"parameters\": {\n",
    "            \"type\": \"object\",\n",
    "            \"properties\": {\n",
    "                \"verificated\": {\n",
    "                    \"type\": \"boolean\",\n",
    "                    \"description\": \"Is solution correct or not for this task?\",\n",
    "                }\n",
    "            },\n",
    "            \"required\": [\"verificated\"],\n",
    "        },\n",
    "    },\n",
    "]"
   ]
  },
  {
   "cell_type": "code",
   "execution_count": 20,
   "metadata": {},
   "outputs": [],
   "source": [
    "document_content = Docx2txtLoader(\"./home_beginner_2.docx\").load()[0].page_content"
   ]
  },
  {
   "cell_type": "code",
   "execution_count": 21,
   "metadata": {},
   "outputs": [],
   "source": [
    "retriever = FAISS.from_texts(\n",
    "    [text_preprocess(document_content)],\n",
    "    embedding=OpenAIEmbeddings(),\n",
    ").as_retriever()"
   ]
  },
  {
   "cell_type": "code",
   "execution_count": 22,
   "metadata": {},
   "outputs": [],
   "source": [
    "tasknames = filter_tasknames_from_str(document_content)\n",
    "text = text_preprocess(document_content)\n",
    "splitted_texts = split_text_by_tasknames(text, tasknames)"
   ]
  },
  {
   "cell_type": "code",
   "execution_count": 23,
   "metadata": {},
   "outputs": [],
   "source": [
    "prompt_for_parser = ChatPromptTemplate.from_template(\n",
    "    \"\"\"Answer the question based only on the following context:\n",
    "{context}\n",
    "\n",
    "Question: {question}\n",
    "\"\"\"\n",
    ")\n",
    "chain_parsing = (\n",
    "    prompt_for_parser\n",
    "    | model.bind(function_call={\"name\": \"task_info\"}, functions=funcs)\n",
    "    | JsonOutputFunctionsParser()\n",
    "    | {\"task_data\": RunnablePassthrough()}\n",
    ")"
   ]
  },
  {
   "cell_type": "code",
   "execution_count": 24,
   "metadata": {},
   "outputs": [],
   "source": [
    "prompt_for_verification = ChatPromptTemplate.from_template(\n",
    "    \"\"\"Is this solution correct for the following task?\n",
    "Solution: {solution}\n",
    "Task: {description}\n",
    "\"\"\"\n",
    ")\n",
    "\n",
    "verification_chain = (\n",
    "    itemgetter(\"task_data\")\n",
    "    | prompt_for_verification\n",
    "    | model.bind(function_call={\"name\": \"solution_check\"}, functions=funcs)\n",
    "    | JsonOutputFunctionsParser()\n",
    ")"
   ]
  },
  {
   "cell_type": "code",
   "execution_count": 10,
   "metadata": {},
   "outputs": [
    {
     "data": {
      "text/plain": [
       "{'name': 'home_beginner_2.1.2',\n",
       " 'description': 'Напишите программу, которая вводит два целых числа и выводит результат \\n«делится», если первое число делится на второе, и «не делится» в противном случае. Используйте один неполный условный оператор if.',\n",
       " 'solution': 'n = int(input())\\nm = int(input())\\nres = \"не делится\"\\nif n % m == 0:\\n    res = \"делится\"\\nprint(res)',\n",
       " 'verificated': True}"
      ]
     },
     "execution_count": 10,
     "metadata": {},
     "output_type": "execute_result"
    }
   ],
   "source": [
    "chain_main = (\n",
    "    chain_parsing\n",
    "    | {\n",
    "        \"task_data\": itemgetter(\"task_data\"),\n",
    "        \"verificated\": verification_chain,\n",
    "    }\n",
    "    | form_dict_with_props\n",
    ")\n",
    "\n",
    "chain_main.invoke(\n",
    "    f\"Tell me about {tasknames[1]} and return it's solution. Return empty string if there are no code problem description or solution\"\n",
    ")"
   ]
  },
  {
   "cell_type": "code",
   "execution_count": 25,
   "metadata": {},
   "outputs": [
    {
     "name": "stderr",
     "output_type": "stream",
     "text": [
      " 89%|████████▉ | 16/18 [02:11<00:48, 24.44s/it]"
     ]
    },
    {
     "name": "stdout",
     "output_type": "stream",
     "text": [
      "Could not parse function call data: Expecting ',' delimiter: line 1 column 532 (char 531)\n"
     ]
    },
    {
     "name": "stderr",
     "output_type": "stream",
     "text": [
      "100%|██████████| 18/18 [02:20<00:00,  7.83s/it]\n"
     ]
    }
   ],
   "source": [
    "task_data = []\n",
    "for i in tqdm(range(len(tasknames))):\n",
    "    retriever_from_text = FAISS.from_texts(\n",
    "        [splitted_texts[i]],\n",
    "        embedding=OpenAIEmbeddings(),\n",
    "    ).as_retriever()\n",
    "\n",
    "    c = (\n",
    "        {\n",
    "            \"context\": retriever_from_text,\n",
    "            \"question\": RunnablePassthrough(),\n",
    "        }\n",
    "        | chain_parsing\n",
    "        | {\n",
    "            \"task_data\": itemgetter(\"task_data\"),\n",
    "            \"verificated\": verification_chain,\n",
    "        }\n",
    "        | form_dict_with_props\n",
    "    )\n",
    "    try:\n",
    "        task_data.append(\n",
    "            c.invoke(\n",
    "                f\"Tell me about {tasknames[i]} and return it's solution. Return empty string if there are no code problem description or solution\"\n",
    "            )\n",
    "        )\n",
    "    except Exception as e:\n",
    "        print(e)\n",
    "        task_data.append(\n",
    "            {\n",
    "                \"name\": tasknames[i],\n",
    "                \"description\": \"PROBLEM\",\n",
    "                \"solution\": \"PROBLEM\",\n",
    "                \"verified\": False,\n",
    "            }\n",
    "        )\n",
    "        continue"
   ]
  },
  {
   "cell_type": "code",
   "execution_count": 26,
   "metadata": {},
   "outputs": [
    {
     "data": {
      "text/plain": [
       "[{'name': 'home_beginner_2.1.1',\n",
       "  'description': 'Напишите программу, которая вводит строку и ищет ее в строке \\ns = \"I Do Love Python! Python is Cool!!!\"\\nЕсли искомая строка найдена, программа выводит на экран «найдено». В противном случае выводится «не найдено». Используйте один неполный условный оператор if.',\n",
       "  'solution': 's = \"I Do Love Python! Python is Cool!!!\"\\nc = input()\\nres = \"не найдено\"\\nif c in s:\\n    res = \"найдено\"\\nprint(res)\\n',\n",
       "  'verificated': True},\n",
       " {'name': 'home_beginner_2.1.2',\n",
       "  'description': 'Напишите программу, которая вводит два целых числа и выводит результат «делится», если первое число делится на второе, и «не делится» в противном случае. Используйте один неполный условный оператор if.',\n",
       "  'solution': 'n = int(input())\\nm = int(input())\\nres = \"не делится\"\\nif n % m == 0:\\n    res = \"делится\"\\nprint(res)\\n',\n",
       "  'verificated': True},\n",
       " {'name': 'home_beginner_2.1.3',\n",
       "  'description': 'Напишите программу, которая вводит два числа и выводит на экран только одну из строк по результатам проверки:\\nОба нечетные\\nПервое четное\\nВторое четное\\nОба четны\\nДля проверки условий используйте только неполные условные операторы if.',\n",
       "  'solution': \"n = int(input())\\nm = int(input())\\nres = 1\\nif m%2 == 0:\\n    res = 2\\nif n%2 == 0:\\n    res = 3\\n    if m%2 == 0:\\n        res = 4\\nif res == 1: print('Оба нечетные')\\nif res == 2: print('Второе четное')\\nif res == 3: print('Первое четное')\\nif res == 4: print('Оба четные')\",\n",
       "  'verificated': True},\n",
       " {'name': 'home_beginner_2.2.1',\n",
       "  'description': 'home 3.1',\n",
       "  'solution': '',\n",
       "  'verificated': False},\n",
       " {'name': 'home_beginner_2.2.2',\n",
       "  'description': 'home 3.2',\n",
       "  'solution': '',\n",
       "  'verificated': False},\n",
       " {'name': 'home_beginner_2.2.3',\n",
       "  'description': 'home 3.3',\n",
       "  'solution': '',\n",
       "  'verificated': False},\n",
       " {'name': 'home_beginner_2.2.4',\n",
       "  'description': 'Занятие 3.4\\nДомашняя работа',\n",
       "  'solution': '',\n",
       "  'verificated': False},\n",
       " {'name': 'home_beginner_2.3.1',\n",
       "  'description': 'Напишите программу, которая вводит строку, при помощи цикла for подсчитывает количество символов в ней и выводит на экран.',\n",
       "  'solution': 's = input()\\nn = 0\\nfor c in s:\\n    n += 1\\nprint(n)\\n',\n",
       "  'verificated': True},\n",
       " {'name': 'home_beginner_2.3.2',\n",
       "  'description': 'Напишите программу, которая вводит строку из заглавных английских букв, при помощи цикла for подсчитывает количество гласных букв в ней, и выводит это число на экран.',\n",
       "  'solution': 'a = \"AEIOUY\"\\ns = input()\\nn = 0\\nfor c in s:\\n    if c in a:\\n        n += 1\\nprint(n)\\n',\n",
       "  'verificated': True},\n",
       " {'description': 'Напишите программу, которая вводит строку из заглавных английских букв, при помощи цикла for подсчитывает количество гласных и согласных букв в ней, и выводит это числа на экран.',\n",
       "  'name': 'home_beginner_2.3.3',\n",
       "  'solution': 'a = \"AEIOUY\"\\ns = input()\\nn = 0\\nm = 0\\nfor c in s:\\n    if c in a:\\n        n += 1\\n    else:\\n        m += 1\\nprint(n, m)',\n",
       "  'verificated': True},\n",
       " {'name': 'home_beginner_2.4.1',\n",
       "  'description': 'home 5.1',\n",
       "  'solution': '',\n",
       "  'verificated': False},\n",
       " {'name': 'home_beginner_2.4.2',\n",
       "  'description': 'home 5.2',\n",
       "  'solution': '',\n",
       "  'verificated': False},\n",
       " {'name': 'home_beginner_2.4.3',\n",
       "  'description': 'Занятие 5\\nДомашняя работа',\n",
       "  'solution': '',\n",
       "  'verificated': False},\n",
       " {'name': 'home_beginner_2.5.1',\n",
       "  'description': 'Напишите программу, которая при помощи цикла for и интервала range() с тремя аргументами выводит определенные символы из строки s = \"ABCDEFGHIJKLMNOP\", таким образом, что получается:\\nOMKIGEC',\n",
       "  'solution': 's = \"ABCDEFGHIJKLMNOP\"\\nfor i in range(len(s)-2,0,-2):\\n    print(s[i], end=\"\", sep=\"\")',\n",
       "  'verificated': True},\n",
       " {'name': 'home_beginner_2.5.2',\n",
       "  'description': 'Напишите программу, которая вводит число и выводит произведение его нечетных цифр, используя цикл for.',\n",
       "  'solution': 'n = input()\\nodd = 1\\nfor i in range(len(n)-1,-1,-2):\\n    odd *= int(n[i])\\nprint(odd)',\n",
       "  'verificated': False},\n",
       " {'name': 'home_beginner_2.5.3',\n",
       "  'description': 'PROBLEM',\n",
       "  'solution': 'PROBLEM',\n",
       "  'verified': False},\n",
       " {'name': 'home_beginner_2.6.1',\n",
       "  'description': 'Напишите программу с циклом while, которая выводит те же значения, что и код: for i in range(12,-2,-4): print(i)',\n",
       "  'solution': 'i = 12\\nwhile i > -2:\\n    print(i)\\n    i -= 4\\n',\n",
       "  'verificated': True},\n",
       " {'name': 'home_beginner_2.6.2',\n",
       "  'description': 'Напишите программу, которая вводит только четные числа. Она должна ввести ровно 6 таких чисел и вывести их произведение.',\n",
       "  'solution': 'prod = 1\\nfor i in range(6):\\n    n = int(input())\\n    while n%2 != 0:\\n        print(\"Введите четное число!\")\\n        n = int(input())\\n    prod *= n\\nprint(prod)',\n",
       "  'verificated': True}]"
      ]
     },
     "execution_count": 26,
     "metadata": {},
     "output_type": "execute_result"
    }
   ],
   "source": [
    "task_data"
   ]
  },
  {
   "cell_type": "code",
   "execution_count": null,
   "metadata": {},
   "outputs": [],
   "source": []
  }
 ],
 "metadata": {
  "kernelspec": {
   "display_name": "env_tasker",
   "language": "python",
   "name": "python3"
  },
  "language_info": {
   "codemirror_mode": {
    "name": "ipython",
    "version": 3
   },
   "file_extension": ".py",
   "mimetype": "text/x-python",
   "name": "python",
   "nbconvert_exporter": "python",
   "pygments_lexer": "ipython3",
   "version": "3.11.6"
  }
 },
 "nbformat": 4,
 "nbformat_minor": 2
}
