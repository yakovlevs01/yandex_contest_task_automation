{
 "cells": [
  {
   "cell_type": "code",
   "execution_count": 1,
   "metadata": {},
   "outputs": [
    {
     "data": {
      "text/plain": [
       "True"
      ]
     },
     "execution_count": 1,
     "metadata": {},
     "output_type": "execute_result"
    }
   ],
   "source": [
    "from dotenv import load_dotenv\n",
    "from tqdm import tqdm\n",
    "\n",
    "load_dotenv()"
   ]
  },
  {
   "cell_type": "code",
   "execution_count": 2,
   "metadata": {},
   "outputs": [],
   "source": [
    "from langchain_openai import ChatOpenAI\n",
    "\n",
    "model = ChatOpenAI(temperature=0, model=\"gpt-3.5-turbo-1106\")"
   ]
  },
  {
   "cell_type": "markdown",
   "metadata": {},
   "source": [
    "# Парсинг DOCX документа"
   ]
  },
  {
   "cell_type": "code",
   "execution_count": 3,
   "metadata": {},
   "outputs": [],
   "source": [
    "def filter_tasknames_from_str(s: str) -> list[str]:\n",
    "    import re\n",
    "\n",
    "    pattern = r\"\\w+_\\w+_\\d+\\.\\d+\\.\\d+\"\n",
    "    matches = re.findall(pattern, s)\n",
    "    return sorted(set(matches))\n",
    "\n",
    "\n",
    "def text_preprocess(text: str) -> str:\n",
    "    \"\"\"Deletes extra newlines and adds hints for model\"\"\"\n",
    "    import re\n",
    "\n",
    "    res = re.sub(r\"\\n+\", \"\\n\", text)\n",
    "    res = res.replace(\"Эталон.\", \"Решение:\")\n",
    "    return res\n",
    "\n",
    "\n",
    "def split_text_by_tasknames(text: str, tasknames: list[str]) -> list[str]:\n",
    "    \"\"\"Splits whole document text to list of strings, each one contatining context about one task\"\"\"\n",
    "    res = []\n",
    "    for i in range(len(tasknames) - 1):\n",
    "        res.append(text[text.find(tasknames[i]) : text.find(tasknames[i + 1])])\n",
    "\n",
    "    res.append(text[text.find(tasknames[-1]) :])\n",
    "    return res"
   ]
  },
  {
   "cell_type": "code",
   "execution_count": 107,
   "metadata": {},
   "outputs": [],
   "source": [
    "from langchain_community.vectorstores import FAISS\n",
    "from langchain_openai import OpenAIEmbeddings\n",
    "from langchain.output_parsers.openai_functions import JsonOutputFunctionsParser\n",
    "from langchain_core.runnables import RunnablePassthrough, RunnableParallel\n",
    "from langchain_core.prompts import ChatPromptTemplate\n",
    "from operator import itemgetter"
   ]
  },
  {
   "cell_type": "markdown",
   "metadata": {},
   "source": [
    "# Main working part"
   ]
  },
  {
   "cell_type": "code",
   "execution_count": 108,
   "metadata": {},
   "outputs": [],
   "source": [
    "funcs = [\n",
    "    {\n",
    "        \"name\": \"task_info\",\n",
    "        \"description\": \"Analyze context and return task description and solution if there is not enough information in context, return string 'ERROR'\",\n",
    "        \"parameters\": {\n",
    "            \"type\": \"object\",\n",
    "            \"properties\": {\n",
    "                \"name\": {\n",
    "                    \"type\": \"string\",\n",
    "                    \"description\": \"Name of the task. Example: home_beginner_2.5.3\",\n",
    "                },\n",
    "                \"description\": {\n",
    "                    \"type\": \"string\",\n",
    "                    \"description\": \"Description of the task.  Example: 'Напишите программу, которая считывает два целых числа и выводит их сумму'. If there is not enough information in context, return string 'ERROR'.\",\n",
    "                },\n",
    "                \"solution\": {\n",
    "                    \"type\": \"string\",\n",
    "                    \"description\": \"Solution of task written Python (any python code located in task description, with input and print). Example: 'n=int(input())\\nm=int(input())\\nprint(n+m)'. If there is not enough information in context, return string 'ERROR'\",\n",
    "                },\n",
    "            },\n",
    "            \"required\": [\"description\", \"solution\"],\n",
    "        },\n",
    "    },\n",
    "    {\n",
    "        \"name\": \"solution_check\",\n",
    "        \"description\": \"Check whether solution provided for the task is correct \",\n",
    "        \"parameters\": {\n",
    "            \"type\": \"object\",\n",
    "            \"properties\": {\n",
    "                \"verificated\": {\n",
    "                    \"type\": \"boolean\",\n",
    "                    \"description\": \"Is solution correct or not for this task?\",\n",
    "                }\n",
    "            },\n",
    "            \"required\": [\"verificated\"],\n",
    "        },\n",
    "    },\n",
    "    {\n",
    "        \"name\": \"input_data_info\",\n",
    "        \"description\": \"From the task description give the format of input data\",\n",
    "        \"parameters\": {\n",
    "            \"type\": \"object\",\n",
    "            \"properties\": {\n",
    "                \"input\": {\n",
    "                    \"type\": \"string\",\n",
    "                    \"description\": \"detailed information about input\",\n",
    "                }\n",
    "            },\n",
    "            \"required\": [\"input\"],\n",
    "        },\n",
    "    },\n",
    "]"
   ]
  },
  {
   "cell_type": "code",
   "execution_count": 74,
   "metadata": {},
   "outputs": [],
   "source": [
    "from langchain_community.document_loaders import Docx2txtLoader\n",
    "\n",
    "document_content = Docx2txtLoader(\"./home_beginner_2.docx\").load()[0].page_content"
   ]
  },
  {
   "cell_type": "code",
   "execution_count": 75,
   "metadata": {},
   "outputs": [],
   "source": [
    "tasknames = filter_tasknames_from_str(document_content)\n",
    "text = text_preprocess(document_content)\n",
    "splitted_texts = split_text_by_tasknames(text, tasknames)"
   ]
  },
  {
   "cell_type": "code",
   "execution_count": 93,
   "metadata": {},
   "outputs": [],
   "source": [
    "prompt_for_parser = ChatPromptTemplate.from_template(\n",
    "    \"\"\"Return information about provided context. Information should be based ONLY on the following context (if there is not enough information in context, return string  \"ERROR\").:\n",
    "\n",
    "Context: {context}\n",
    "\n",
    "Question: {question}\n",
    "\n",
    "(if there is not enough information in context, return string  \"ERROR\")\n",
    "\"\"\"\n",
    ")\n",
    "\n",
    "chain_parsing = (\n",
    "    prompt_for_parser\n",
    "    | model.bind(function_call={\"name\": \"task_info\"}, functions=funcs)\n",
    "    | JsonOutputFunctionsParser()\n",
    ")"
   ]
  },
  {
   "cell_type": "code",
   "execution_count": 94,
   "metadata": {},
   "outputs": [],
   "source": [
    "prompt_for_verification = ChatPromptTemplate.from_template(\n",
    "    \"\"\"Is this solution correct for the following task?\n",
    "\n",
    "Solution: {solution}\n",
    "\n",
    "Task: {description}\n",
    "\"\"\"\n",
    ")\n",
    "\n",
    "verification_chain = (\n",
    "    prompt_for_verification\n",
    "    | model.bind(function_call={\"name\": \"solution_check\"}, functions=funcs)\n",
    "    | JsonOutputFunctionsParser()\n",
    "    | itemgetter(\"verificated\")\n",
    ")"
   ]
  },
  {
   "cell_type": "code",
   "execution_count": 109,
   "metadata": {},
   "outputs": [],
   "source": [
    "prompt_for_input = ChatPromptTemplate.from_template(\n",
    "    \"\"\"From the description of the code task, give the description of the input format\n",
    "\n",
    "Task description: {description}\n",
    "\n",
    "Input format:\"\"\"\n",
    ")\n",
    "\n",
    "input_data_chain = (\n",
    "    prompt_for_input\n",
    "    | model.bind(function_call={\"name\": \"input_data_info\"}, functions=funcs)\n",
    "    | JsonOutputFunctionsParser()\n",
    "    | itemgetter(\"input\")\n",
    ")"
   ]
  },
  {
   "cell_type": "code",
   "execution_count": 110,
   "metadata": {},
   "outputs": [
    {
     "name": "stderr",
     "output_type": "stream",
     "text": [
      " 89%|████████▉ | 16/18 [01:52<00:47, 23.60s/it]"
     ]
    },
    {
     "name": "stdout",
     "output_type": "stream",
     "text": [
      "Could not parse function call data: Expecting ',' delimiter: line 1 column 457 (char 456)\n"
     ]
    },
    {
     "name": "stderr",
     "output_type": "stream",
     "text": [
      "100%|██████████| 18/18 [02:00<00:00,  6.70s/it]\n"
     ]
    },
    {
     "data": {
      "text/plain": [
       "[{'name': 'home_beginner_2.1.1',\n",
       "  'description': 'Напишите программу, которая вводит строку и ищет ее в строке \\ns = \"I Do Love Python! Python is Cool!!!\"\\nЕсли искомая строка найдена, программа выводит на экран «найдено». В противном случае выводится «не найдено». Используйте один неполный условный оператор if.',\n",
       "  'solution': 's = \"I Do Love Python! Python is Cool!!!\"\\nc = input()\\nres = \"не найдено\"\\nif c in s:\\n    res = \"найдено\"\\nprint(res)',\n",
       "  'verificated': True,\n",
       "  'input': 'Строка для поиска'},\n",
       " {'name': 'home_beginner_2.1.2',\n",
       "  'description': 'Напишите программу, которая вводит два целых числа и выводит результат \\n«делится», если первое число делится на второе, и «не делится» в противном случае. Используйте один неполный условный оператор if.',\n",
       "  'solution': 'n = int(input())\\nm = int(input())\\nres = \"не делится\"\\nif n % m == 0:\\n    res = \"делится\"\\nprint(res)',\n",
       "  'verificated': True,\n",
       "  'input': 'Два целых числа'},\n",
       " {'name': 'home_beginner_2.1.3',\n",
       "  'description': 'Напишите программу, которая вводит два числа и выводит на экран только одну из строк по результатам проверки:\\nОба нечетные\\nПервое четное\\nВторое четное\\nОба четны\\nДля проверки условий используйте только неполные условные операторы if.',\n",
       "  'solution': \"n = int(input())\\nm = int(input())\\nres = 1\\nif m%2 == 0:\\n    res = 2\\nif n%2 == 0:\\n    res = 3\\n    if m%2 == 0:\\n        res = 4\\nif res == 1: print('Оба нечетные')\\nif res == 2: print('Второе четное')\\nif res == 3: print('Первое четное')\\nif res == 4: print('Оба четные')\",\n",
       "  'verificated': False,\n",
       "  'input': 'Два целых числа'},\n",
       " {'name': 'home_beginner_2.2.1',\n",
       "  'description': 'ERROR',\n",
       "  'solution': 'ERROR',\n",
       "  'verificated': False,\n",
       "  'input': 'ERROR'},\n",
       " {'name': 'home_beginner_2.2.2',\n",
       "  'description': 'ERROR',\n",
       "  'solution': 'ERROR',\n",
       "  'verificated': False,\n",
       "  'input': 'ERROR'},\n",
       " {'name': 'home_beginner_2.2.3',\n",
       "  'description': 'ERROR',\n",
       "  'solution': 'ERROR',\n",
       "  'verificated': False,\n",
       "  'input': 'ERROR'},\n",
       " {'name': 'home_beginner_2.2.4',\n",
       "  'description': 'ERROR',\n",
       "  'solution': 'ERROR',\n",
       "  'verificated': False,\n",
       "  'input': 'ERROR'},\n",
       " {'name': 'home_beginner_2.3.1',\n",
       "  'description': 'Напишите программу, которая вводит строку, при помощи цикла for подсчитывает количество символов в ней и выводит на экран.',\n",
       "  'solution': 's = input()\\nn = 0\\nfor c in s:\\n    n += 1\\nprint(n)',\n",
       "  'verificated': True,\n",
       "  'input': 'строка'},\n",
       " {'name': 'home_beginner_2.3.2',\n",
       "  'description': '\\nНапишите программу, которая вводит строку из заглавных английских букв, при помощи цикла for подсчитывает количество гласных букв в ней, и выводит это число на экран.',\n",
       "  'solution': 'a = \"AEIOUY\"\\ns = input()\\nn = 0\\nfor c in s:\\n    if c in a:\\n        n += 1\\nprint(n)',\n",
       "  'verificated': True,\n",
       "  'input': 'Строка из заглавных английских букв'},\n",
       " {'name': 'home_beginner_2.3.3',\n",
       "  'description': 'Напишите программу, которая вводит строку из заглавных английских букв, при помощи цикла for подсчитывает количество гласных и согласных букв в ней, и выводит это числа на экран.',\n",
       "  'solution': 'a = \"AEIOUY\"\\ns = input()\\nn = 0\\nm = 0\\nfor c in s:\\n    if c in a:\\n        n += 1\\n    else:\\n        m += 1\\nprint(n, m)',\n",
       "  'verificated': True,\n",
       "  'input': 'Строка из заглавных английских букв'},\n",
       " {'name': 'home_beginner_2.4.1',\n",
       "  'description': 'ERROR',\n",
       "  'solution': 'ERROR',\n",
       "  'verificated': False,\n",
       "  'input': 'ERROR'},\n",
       " {'name': 'home_beginner_2.4.2',\n",
       "  'description': 'ERROR',\n",
       "  'solution': 'ERROR',\n",
       "  'verificated': False,\n",
       "  'input': 'ERROR'},\n",
       " {'name': 'home_beginner_2.4.3',\n",
       "  'description': 'ERROR',\n",
       "  'solution': 'ERROR',\n",
       "  'verificated': False,\n",
       "  'input': 'n=int(input())\\nm=int(input())'},\n",
       " {'name': 'home_beginner_2.5.1',\n",
       "  'description': '\\nНапишите программу, которая при помощи цикла for и интервала range() с тремя аргументами выводит определенные символы из строки s = \"ABCDEFGHIJKLMNOP\", таким образом, что получается:\\nOMKIGEC',\n",
       "  'solution': '\\ns = \"ABCDEFGHIJKLMNOP\"\\nfor i in range(len(s)-2,0,-2):\\n    print(s[i], end=\"\", sep=\"\")',\n",
       "  'verificated': False,\n",
       "  'input': 's = \"ABCDEFGHIJKLMNOP\"'},\n",
       " {'name': 'home_beginner_2.5.2',\n",
       "  'description': 'Напишите программу, которая вводит число и выводит произведение его нечетных цифр, используя цикл for.',\n",
       "  'solution': 'n = input()\\nodd = 1\\nfor i in range(len(n)-1,-1,-2):\\n    odd *= int(n[i])\\nprint(odd)',\n",
       "  'verificated': False,\n",
       "  'input': 'число'},\n",
       " {'name': 'home_beginner_2.5.3',\n",
       "  'description': 'ERROR',\n",
       "  'solution': 'ERROR',\n",
       "  'verified': False},\n",
       " {'name': 'home_beginner_2.6.1',\n",
       "  'description': 'Напишите программу с циклом while, которая выводит те же значения, что и код: for i in range(12,-2,-4): print(i)',\n",
       "  'solution': 'i = 12\\nwhile i > -2:\\n    print(i)\\n    i -= 4',\n",
       "  'verificated': True,\n",
       "  'input': 'There is no specific input format mentioned in the task description.'},\n",
       " {'name': 'home_beginner_2.6.2',\n",
       "  'description': '\\nНапишите программу, которая вводит только четные числа. Она должна ввести ровно 6 таких чисел и вывести их произведение.\\nПример работы программы:\\n2\\n3\\nВведите четное число!\\n4\\n3\\nВведите четное число!\\n2\\n6\\n8\\n2\\n1536',\n",
       "  'solution': '\\nprod = 1\\nfor i in range(6):\\n    n = int(input())\\n    while n%2 != 0:\\n        print(\"Введите четное число!\")\\n        n = int(input())\\n    prod *= n\\nprint(prod)',\n",
       "  'verificated': False,\n",
       "  'input': 'The input consists of 6 even numbers.'}]"
      ]
     },
     "execution_count": 110,
     "metadata": {},
     "output_type": "execute_result"
    }
   ],
   "source": [
    "main_chain = chain_parsing | {\n",
    "    \"name\": itemgetter(\"name\"),\n",
    "    \"description\": itemgetter(\"description\"),\n",
    "    \"solution\": itemgetter(\"solution\"),\n",
    "    \"verificated\": verification_chain,\n",
    "    \"input\": input_data_chain,\n",
    "}\n",
    "\n",
    "\n",
    "\n",
    "task_data = []\n",
    "for i in tqdm(range(len(tasknames))):\n",
    "    try:\n",
    "        task_data.append(\n",
    "            main_chain.invoke(\n",
    "                {\n",
    "                    \"context\": splitted_texts[i],\n",
    "                    \"question\": f\"Tell me about {tasknames[i]} and return it's solution. RETURN ERROR if there are no code problem description or solution\",\n",
    "                }\n",
    "            )\n",
    "        )\n",
    "    except Exception as e:\n",
    "        print(e)\n",
    "        task_data.append(\n",
    "            {\n",
    "                \"name\": tasknames[i],\n",
    "                \"description\": \"ERROR\",\n",
    "                \"solution\": \"ERROR\",\n",
    "                \"verified\": False,\n",
    "            }\n",
    "        )\n",
    "task_data\n",
    "\n",
    "\n",
    "# task_data = c.batch(\n",
    "#     [\n",
    "#         {\n",
    "#             \"context\": splitted_texts[i],\n",
    "#             \"question\": f\"Tell me about {tasknames[i]} and return it's solution. RETURN ERROR if there are no code problem description or solution\",\n",
    "#         }\n",
    "#         for i in range(len(tasknames))\n",
    "#     ]\n",
    "# )"
   ]
  },
  {
   "cell_type": "code",
   "execution_count": 88,
   "metadata": {},
   "outputs": [
    {
     "data": {
      "text/plain": [
       "[]"
      ]
     },
     "execution_count": 88,
     "metadata": {},
     "output_type": "execute_result"
    }
   ],
   "source": [
    "task_data"
   ]
  },
  {
   "cell_type": "markdown",
   "metadata": {},
   "source": [
    "# Tests"
   ]
  },
  {
   "cell_type": "code",
   "execution_count": 95,
   "metadata": {},
   "outputs": [
    {
     "ename": "OutputParserException",
     "evalue": "Could not parse function call data: Expecting ',' delimiter: line 1 column 457 (char 456)",
     "output_type": "error",
     "traceback": [
      "\u001b[1;31m---------------------------------------------------------------------------\u001b[0m",
      "\u001b[1;31mJSONDecodeError\u001b[0m                           Traceback (most recent call last)",
      "File \u001b[1;32mc:\\pets\\task_creator\\env_tasker\\Lib\\site-packages\\langchain\\output_parsers\\openai_functions.py:98\u001b[0m, in \u001b[0;36mJsonOutputFunctionsParser.parse_result\u001b[1;34m(self, result, partial)\u001b[0m\n\u001b[0;32m     97\u001b[0m \u001b[38;5;28;01mtry\u001b[39;00m:\n\u001b[1;32m---> 98\u001b[0m     \u001b[38;5;28;01mreturn\u001b[39;00m \u001b[43mjson\u001b[49m\u001b[38;5;241;43m.\u001b[39;49m\u001b[43mloads\u001b[49m\u001b[43m(\u001b[49m\n\u001b[0;32m     99\u001b[0m \u001b[43m        \u001b[49m\u001b[43mfunction_call\u001b[49m\u001b[43m[\u001b[49m\u001b[38;5;124;43m\"\u001b[39;49m\u001b[38;5;124;43marguments\u001b[39;49m\u001b[38;5;124;43m\"\u001b[39;49m\u001b[43m]\u001b[49m\u001b[43m,\u001b[49m\u001b[43m \u001b[49m\u001b[43mstrict\u001b[49m\u001b[38;5;241;43m=\u001b[39;49m\u001b[38;5;28;43mself\u001b[39;49m\u001b[38;5;241;43m.\u001b[39;49m\u001b[43mstrict\u001b[49m\n\u001b[0;32m    100\u001b[0m \u001b[43m    \u001b[49m\u001b[43m)\u001b[49m\n\u001b[0;32m    101\u001b[0m \u001b[38;5;28;01mexcept\u001b[39;00m (json\u001b[38;5;241m.\u001b[39mJSONDecodeError, \u001b[38;5;167;01mTypeError\u001b[39;00m) \u001b[38;5;28;01mas\u001b[39;00m exc:\n",
      "File \u001b[1;32m~\\AppData\\Local\\Programs\\Python\\Python311\\Lib\\json\\__init__.py:359\u001b[0m, in \u001b[0;36mloads\u001b[1;34m(s, cls, object_hook, parse_float, parse_int, parse_constant, object_pairs_hook, **kw)\u001b[0m\n\u001b[0;32m    358\u001b[0m     kw[\u001b[38;5;124m'\u001b[39m\u001b[38;5;124mparse_constant\u001b[39m\u001b[38;5;124m'\u001b[39m] \u001b[38;5;241m=\u001b[39m parse_constant\n\u001b[1;32m--> 359\u001b[0m \u001b[38;5;28;01mreturn\u001b[39;00m \u001b[38;5;28;43mcls\u001b[39;49m\u001b[43m(\u001b[49m\u001b[38;5;241;43m*\u001b[39;49m\u001b[38;5;241;43m*\u001b[39;49m\u001b[43mkw\u001b[49m\u001b[43m)\u001b[49m\u001b[38;5;241;43m.\u001b[39;49m\u001b[43mdecode\u001b[49m\u001b[43m(\u001b[49m\u001b[43ms\u001b[49m\u001b[43m)\u001b[49m\n",
      "File \u001b[1;32m~\\AppData\\Local\\Programs\\Python\\Python311\\Lib\\json\\decoder.py:337\u001b[0m, in \u001b[0;36mJSONDecoder.decode\u001b[1;34m(self, s, _w)\u001b[0m\n\u001b[0;32m    333\u001b[0m \u001b[38;5;250m\u001b[39m\u001b[38;5;124;03m\"\"\"Return the Python representation of ``s`` (a ``str`` instance\u001b[39;00m\n\u001b[0;32m    334\u001b[0m \u001b[38;5;124;03mcontaining a JSON document).\u001b[39;00m\n\u001b[0;32m    335\u001b[0m \n\u001b[0;32m    336\u001b[0m \u001b[38;5;124;03m\"\"\"\u001b[39;00m\n\u001b[1;32m--> 337\u001b[0m obj, end \u001b[38;5;241m=\u001b[39m \u001b[38;5;28;43mself\u001b[39;49m\u001b[38;5;241;43m.\u001b[39;49m\u001b[43mraw_decode\u001b[49m\u001b[43m(\u001b[49m\u001b[43ms\u001b[49m\u001b[43m,\u001b[49m\u001b[43m \u001b[49m\u001b[43midx\u001b[49m\u001b[38;5;241;43m=\u001b[39;49m\u001b[43m_w\u001b[49m\u001b[43m(\u001b[49m\u001b[43ms\u001b[49m\u001b[43m,\u001b[49m\u001b[43m \u001b[49m\u001b[38;5;241;43m0\u001b[39;49m\u001b[43m)\u001b[49m\u001b[38;5;241;43m.\u001b[39;49m\u001b[43mend\u001b[49m\u001b[43m(\u001b[49m\u001b[43m)\u001b[49m\u001b[43m)\u001b[49m\n\u001b[0;32m    338\u001b[0m end \u001b[38;5;241m=\u001b[39m _w(s, end)\u001b[38;5;241m.\u001b[39mend()\n",
      "File \u001b[1;32m~\\AppData\\Local\\Programs\\Python\\Python311\\Lib\\json\\decoder.py:353\u001b[0m, in \u001b[0;36mJSONDecoder.raw_decode\u001b[1;34m(self, s, idx)\u001b[0m\n\u001b[0;32m    352\u001b[0m \u001b[38;5;28;01mtry\u001b[39;00m:\n\u001b[1;32m--> 353\u001b[0m     obj, end \u001b[38;5;241m=\u001b[39m \u001b[38;5;28;43mself\u001b[39;49m\u001b[38;5;241;43m.\u001b[39;49m\u001b[43mscan_once\u001b[49m\u001b[43m(\u001b[49m\u001b[43ms\u001b[49m\u001b[43m,\u001b[49m\u001b[43m \u001b[49m\u001b[43midx\u001b[49m\u001b[43m)\u001b[49m\n\u001b[0;32m    354\u001b[0m \u001b[38;5;28;01mexcept\u001b[39;00m \u001b[38;5;167;01mStopIteration\u001b[39;00m \u001b[38;5;28;01mas\u001b[39;00m err:\n",
      "\u001b[1;31mJSONDecodeError\u001b[0m: Expecting ',' delimiter: line 1 column 457 (char 456)",
      "\nDuring handling of the above exception, another exception occurred:\n",
      "\u001b[1;31mOutputParserException\u001b[0m                     Traceback (most recent call last)",
      "Cell \u001b[1;32mIn[95], line 18\u001b[0m\n\u001b[0;32m      1\u001b[0m c \u001b[38;5;241m=\u001b[39m (\n\u001b[0;32m      2\u001b[0m     prompt_for_parser\n\u001b[0;32m      3\u001b[0m     \u001b[38;5;241m|\u001b[39m model\u001b[38;5;241m.\u001b[39mbind(function_call\u001b[38;5;241m=\u001b[39m{\u001b[38;5;124m\"\u001b[39m\u001b[38;5;124mname\u001b[39m\u001b[38;5;124m\"\u001b[39m: \u001b[38;5;124m\"\u001b[39m\u001b[38;5;124mtask_info\u001b[39m\u001b[38;5;124m\"\u001b[39m}, functions\u001b[38;5;241m=\u001b[39mfuncs)\n\u001b[1;32m   (...)\u001b[0m\n\u001b[0;32m     15\u001b[0m     )\n\u001b[0;32m     16\u001b[0m )\n\u001b[1;32m---> 18\u001b[0m result \u001b[38;5;241m=\u001b[39m \u001b[43mc\u001b[49m\u001b[38;5;241;43m.\u001b[39;49m\u001b[43mbatch\u001b[49m\u001b[43m(\u001b[49m\n\u001b[0;32m     19\u001b[0m \u001b[43m    \u001b[49m\u001b[43m[\u001b[49m\n\u001b[0;32m     20\u001b[0m \u001b[43m        \u001b[49m\u001b[43m{\u001b[49m\n\u001b[0;32m     21\u001b[0m \u001b[43m            \u001b[49m\u001b[38;5;124;43m\"\u001b[39;49m\u001b[38;5;124;43mcontext\u001b[39;49m\u001b[38;5;124;43m\"\u001b[39;49m\u001b[43m:\u001b[49m\u001b[43m \u001b[49m\u001b[43msplitted_texts\u001b[49m\u001b[43m[\u001b[49m\u001b[43mi\u001b[49m\u001b[43m]\u001b[49m\u001b[43m,\u001b[49m\n\u001b[0;32m     22\u001b[0m \u001b[43m            \u001b[49m\u001b[38;5;124;43m\"\u001b[39;49m\u001b[38;5;124;43mquestion\u001b[39;49m\u001b[38;5;124;43m\"\u001b[39;49m\u001b[43m:\u001b[49m\u001b[43m \u001b[49m\u001b[38;5;124;43mf\u001b[39;49m\u001b[38;5;124;43m\"\u001b[39;49m\u001b[38;5;124;43mTell me about \u001b[39;49m\u001b[38;5;132;43;01m{\u001b[39;49;00m\u001b[43mtasknames\u001b[49m\u001b[43m[\u001b[49m\u001b[43mi\u001b[49m\u001b[43m]\u001b[49m\u001b[38;5;132;43;01m}\u001b[39;49;00m\u001b[38;5;124;43m and return it\u001b[39;49m\u001b[38;5;124;43m'\u001b[39;49m\u001b[38;5;124;43ms solution. RETURN ERROR if there are no code problem description or solution\u001b[39;49m\u001b[38;5;124;43m\"\u001b[39;49m\u001b[43m,\u001b[49m\n\u001b[0;32m     23\u001b[0m \u001b[43m        \u001b[49m\u001b[43m}\u001b[49m\n\u001b[0;32m     24\u001b[0m \u001b[43m        \u001b[49m\u001b[38;5;28;43;01mfor\u001b[39;49;00m\u001b[43m \u001b[49m\u001b[43mi\u001b[49m\u001b[43m \u001b[49m\u001b[38;5;129;43;01min\u001b[39;49;00m\u001b[43m \u001b[49m\u001b[38;5;28;43mrange\u001b[39;49m\u001b[43m(\u001b[49m\u001b[38;5;28;43mlen\u001b[39;49m\u001b[43m(\u001b[49m\u001b[43mtasknames\u001b[49m\u001b[43m)\u001b[49m\u001b[43m)\u001b[49m\n\u001b[0;32m     25\u001b[0m \u001b[43m    \u001b[49m\u001b[43m]\u001b[49m\n\u001b[0;32m     26\u001b[0m \u001b[43m)\u001b[49m\n\u001b[0;32m     27\u001b[0m \u001b[38;5;66;03m# c.get_graph().print_ascii()\u001b[39;00m\n",
      "File \u001b[1;32mc:\\pets\\task_creator\\env_tasker\\Lib\\site-packages\\langchain_core\\runnables\\base.py:1902\u001b[0m, in \u001b[0;36mRunnableSequence.batch\u001b[1;34m(self, inputs, config, return_exceptions, **kwargs)\u001b[0m\n\u001b[0;32m   1900\u001b[0m     \u001b[38;5;28;01melse\u001b[39;00m:\n\u001b[0;32m   1901\u001b[0m         \u001b[38;5;28;01mfor\u001b[39;00m i, step \u001b[38;5;129;01min\u001b[39;00m \u001b[38;5;28menumerate\u001b[39m(\u001b[38;5;28mself\u001b[39m\u001b[38;5;241m.\u001b[39msteps):\n\u001b[1;32m-> 1902\u001b[0m             inputs \u001b[38;5;241m=\u001b[39m \u001b[43mstep\u001b[49m\u001b[38;5;241;43m.\u001b[39;49m\u001b[43mbatch\u001b[49m\u001b[43m(\u001b[49m\n\u001b[0;32m   1903\u001b[0m \u001b[43m                \u001b[49m\u001b[43minputs\u001b[49m\u001b[43m,\u001b[49m\n\u001b[0;32m   1904\u001b[0m \u001b[43m                \u001b[49m\u001b[43m[\u001b[49m\n\u001b[0;32m   1905\u001b[0m \u001b[43m                    \u001b[49m\u001b[38;5;66;43;03m# each step a child run of the corresponding root run\u001b[39;49;00m\n\u001b[0;32m   1906\u001b[0m \u001b[43m                    \u001b[49m\u001b[43mpatch_config\u001b[49m\u001b[43m(\u001b[49m\n\u001b[0;32m   1907\u001b[0m \u001b[43m                        \u001b[49m\u001b[43mconfig\u001b[49m\u001b[43m,\u001b[49m\u001b[43m \u001b[49m\u001b[43mcallbacks\u001b[49m\u001b[38;5;241;43m=\u001b[39;49m\u001b[43mrm\u001b[49m\u001b[38;5;241;43m.\u001b[39;49m\u001b[43mget_child\u001b[49m\u001b[43m(\u001b[49m\u001b[38;5;124;43mf\u001b[39;49m\u001b[38;5;124;43m\"\u001b[39;49m\u001b[38;5;124;43mseq:step:\u001b[39;49m\u001b[38;5;132;43;01m{\u001b[39;49;00m\u001b[43mi\u001b[49m\u001b[38;5;241;43m+\u001b[39;49m\u001b[38;5;241;43m1\u001b[39;49m\u001b[38;5;132;43;01m}\u001b[39;49;00m\u001b[38;5;124;43m\"\u001b[39;49m\u001b[43m)\u001b[49m\n\u001b[0;32m   1908\u001b[0m \u001b[43m                    \u001b[49m\u001b[43m)\u001b[49m\n\u001b[0;32m   1909\u001b[0m \u001b[43m                    \u001b[49m\u001b[38;5;28;43;01mfor\u001b[39;49;00m\u001b[43m \u001b[49m\u001b[43mrm\u001b[49m\u001b[43m,\u001b[49m\u001b[43m \u001b[49m\u001b[43mconfig\u001b[49m\u001b[43m \u001b[49m\u001b[38;5;129;43;01min\u001b[39;49;00m\u001b[43m \u001b[49m\u001b[38;5;28;43mzip\u001b[39;49m\u001b[43m(\u001b[49m\u001b[43mrun_managers\u001b[49m\u001b[43m,\u001b[49m\u001b[43m \u001b[49m\u001b[43mconfigs\u001b[49m\u001b[43m)\u001b[49m\n\u001b[0;32m   1910\u001b[0m \u001b[43m                \u001b[49m\u001b[43m]\u001b[49m\u001b[43m,\u001b[49m\n\u001b[0;32m   1911\u001b[0m \u001b[43m            \u001b[49m\u001b[43m)\u001b[49m\n\u001b[0;32m   1913\u001b[0m \u001b[38;5;66;03m# finish the root runs\u001b[39;00m\n\u001b[0;32m   1914\u001b[0m \u001b[38;5;28;01mexcept\u001b[39;00m \u001b[38;5;167;01mBaseException\u001b[39;00m \u001b[38;5;28;01mas\u001b[39;00m e:\n",
      "File \u001b[1;32mc:\\pets\\task_creator\\env_tasker\\Lib\\site-packages\\langchain_core\\runnables\\base.py:529\u001b[0m, in \u001b[0;36mRunnable.batch\u001b[1;34m(self, inputs, config, return_exceptions, **kwargs)\u001b[0m\n\u001b[0;32m    526\u001b[0m     \u001b[38;5;28;01mreturn\u001b[39;00m cast(List[Output], [invoke(inputs[\u001b[38;5;241m0\u001b[39m], configs[\u001b[38;5;241m0\u001b[39m])])\n\u001b[0;32m    528\u001b[0m \u001b[38;5;28;01mwith\u001b[39;00m get_executor_for_config(configs[\u001b[38;5;241m0\u001b[39m]) \u001b[38;5;28;01mas\u001b[39;00m executor:\n\u001b[1;32m--> 529\u001b[0m     \u001b[38;5;28;01mreturn\u001b[39;00m cast(List[Output], \u001b[38;5;28mlist\u001b[39m(executor\u001b[38;5;241m.\u001b[39mmap(invoke, inputs, configs)))\n",
      "File \u001b[1;32m~\\AppData\\Local\\Programs\\Python\\Python311\\Lib\\concurrent\\futures\\_base.py:619\u001b[0m, in \u001b[0;36mExecutor.map.<locals>.result_iterator\u001b[1;34m()\u001b[0m\n\u001b[0;32m    616\u001b[0m \u001b[38;5;28;01mwhile\u001b[39;00m fs:\n\u001b[0;32m    617\u001b[0m     \u001b[38;5;66;03m# Careful not to keep a reference to the popped future\u001b[39;00m\n\u001b[0;32m    618\u001b[0m     \u001b[38;5;28;01mif\u001b[39;00m timeout \u001b[38;5;129;01mis\u001b[39;00m \u001b[38;5;28;01mNone\u001b[39;00m:\n\u001b[1;32m--> 619\u001b[0m         \u001b[38;5;28;01myield\u001b[39;00m \u001b[43m_result_or_cancel\u001b[49m\u001b[43m(\u001b[49m\u001b[43mfs\u001b[49m\u001b[38;5;241;43m.\u001b[39;49m\u001b[43mpop\u001b[49m\u001b[43m(\u001b[49m\u001b[43m)\u001b[49m\u001b[43m)\u001b[49m\n\u001b[0;32m    620\u001b[0m     \u001b[38;5;28;01melse\u001b[39;00m:\n\u001b[0;32m    621\u001b[0m         \u001b[38;5;28;01myield\u001b[39;00m _result_or_cancel(fs\u001b[38;5;241m.\u001b[39mpop(), end_time \u001b[38;5;241m-\u001b[39m time\u001b[38;5;241m.\u001b[39mmonotonic())\n",
      "File \u001b[1;32m~\\AppData\\Local\\Programs\\Python\\Python311\\Lib\\concurrent\\futures\\_base.py:317\u001b[0m, in \u001b[0;36m_result_or_cancel\u001b[1;34m(***failed resolving arguments***)\u001b[0m\n\u001b[0;32m    315\u001b[0m \u001b[38;5;28;01mtry\u001b[39;00m:\n\u001b[0;32m    316\u001b[0m     \u001b[38;5;28;01mtry\u001b[39;00m:\n\u001b[1;32m--> 317\u001b[0m         \u001b[38;5;28;01mreturn\u001b[39;00m \u001b[43mfut\u001b[49m\u001b[38;5;241;43m.\u001b[39;49m\u001b[43mresult\u001b[49m\u001b[43m(\u001b[49m\u001b[43mtimeout\u001b[49m\u001b[43m)\u001b[49m\n\u001b[0;32m    318\u001b[0m     \u001b[38;5;28;01mfinally\u001b[39;00m:\n\u001b[0;32m    319\u001b[0m         fut\u001b[38;5;241m.\u001b[39mcancel()\n",
      "File \u001b[1;32m~\\AppData\\Local\\Programs\\Python\\Python311\\Lib\\concurrent\\futures\\_base.py:456\u001b[0m, in \u001b[0;36mFuture.result\u001b[1;34m(self, timeout)\u001b[0m\n\u001b[0;32m    454\u001b[0m     \u001b[38;5;28;01mraise\u001b[39;00m CancelledError()\n\u001b[0;32m    455\u001b[0m \u001b[38;5;28;01melif\u001b[39;00m \u001b[38;5;28mself\u001b[39m\u001b[38;5;241m.\u001b[39m_state \u001b[38;5;241m==\u001b[39m FINISHED:\n\u001b[1;32m--> 456\u001b[0m     \u001b[38;5;28;01mreturn\u001b[39;00m \u001b[38;5;28;43mself\u001b[39;49m\u001b[38;5;241;43m.\u001b[39;49m\u001b[43m__get_result\u001b[49m\u001b[43m(\u001b[49m\u001b[43m)\u001b[49m\n\u001b[0;32m    457\u001b[0m \u001b[38;5;28;01melse\u001b[39;00m:\n\u001b[0;32m    458\u001b[0m     \u001b[38;5;28;01mraise\u001b[39;00m \u001b[38;5;167;01mTimeoutError\u001b[39;00m()\n",
      "File \u001b[1;32m~\\AppData\\Local\\Programs\\Python\\Python311\\Lib\\concurrent\\futures\\_base.py:401\u001b[0m, in \u001b[0;36mFuture.__get_result\u001b[1;34m(self)\u001b[0m\n\u001b[0;32m    399\u001b[0m \u001b[38;5;28;01mif\u001b[39;00m \u001b[38;5;28mself\u001b[39m\u001b[38;5;241m.\u001b[39m_exception:\n\u001b[0;32m    400\u001b[0m     \u001b[38;5;28;01mtry\u001b[39;00m:\n\u001b[1;32m--> 401\u001b[0m         \u001b[38;5;28;01mraise\u001b[39;00m \u001b[38;5;28mself\u001b[39m\u001b[38;5;241m.\u001b[39m_exception\n\u001b[0;32m    402\u001b[0m     \u001b[38;5;28;01mfinally\u001b[39;00m:\n\u001b[0;32m    403\u001b[0m         \u001b[38;5;66;03m# Break a reference cycle with the exception in self._exception\u001b[39;00m\n\u001b[0;32m    404\u001b[0m         \u001b[38;5;28mself\u001b[39m \u001b[38;5;241m=\u001b[39m \u001b[38;5;28;01mNone\u001b[39;00m\n",
      "File \u001b[1;32m~\\AppData\\Local\\Programs\\Python\\Python311\\Lib\\concurrent\\futures\\thread.py:58\u001b[0m, in \u001b[0;36m_WorkItem.run\u001b[1;34m(self)\u001b[0m\n\u001b[0;32m     55\u001b[0m     \u001b[38;5;28;01mreturn\u001b[39;00m\n\u001b[0;32m     57\u001b[0m \u001b[38;5;28;01mtry\u001b[39;00m:\n\u001b[1;32m---> 58\u001b[0m     result \u001b[38;5;241m=\u001b[39m \u001b[38;5;28;43mself\u001b[39;49m\u001b[38;5;241;43m.\u001b[39;49m\u001b[43mfn\u001b[49m\u001b[43m(\u001b[49m\u001b[38;5;241;43m*\u001b[39;49m\u001b[38;5;28;43mself\u001b[39;49m\u001b[38;5;241;43m.\u001b[39;49m\u001b[43margs\u001b[49m\u001b[43m,\u001b[49m\u001b[43m \u001b[49m\u001b[38;5;241;43m*\u001b[39;49m\u001b[38;5;241;43m*\u001b[39;49m\u001b[38;5;28;43mself\u001b[39;49m\u001b[38;5;241;43m.\u001b[39;49m\u001b[43mkwargs\u001b[49m\u001b[43m)\u001b[49m\n\u001b[0;32m     59\u001b[0m \u001b[38;5;28;01mexcept\u001b[39;00m \u001b[38;5;167;01mBaseException\u001b[39;00m \u001b[38;5;28;01mas\u001b[39;00m exc:\n\u001b[0;32m     60\u001b[0m     \u001b[38;5;28mself\u001b[39m\u001b[38;5;241m.\u001b[39mfuture\u001b[38;5;241m.\u001b[39mset_exception(exc)\n",
      "File \u001b[1;32mc:\\pets\\task_creator\\env_tasker\\Lib\\site-packages\\langchain_core\\runnables\\config.py:442\u001b[0m, in \u001b[0;36mContextThreadPoolExecutor.map.<locals>._wrapped_fn\u001b[1;34m(*args)\u001b[0m\n\u001b[0;32m    441\u001b[0m \u001b[38;5;28;01mdef\u001b[39;00m \u001b[38;5;21m_wrapped_fn\u001b[39m(\u001b[38;5;241m*\u001b[39margs: Any) \u001b[38;5;241m-\u001b[39m\u001b[38;5;241m>\u001b[39m T:\n\u001b[1;32m--> 442\u001b[0m     \u001b[38;5;28;01mreturn\u001b[39;00m \u001b[43mcontexts\u001b[49m\u001b[38;5;241;43m.\u001b[39;49m\u001b[43mpop\u001b[49m\u001b[43m(\u001b[49m\u001b[43m)\u001b[49m\u001b[38;5;241;43m.\u001b[39;49m\u001b[43mrun\u001b[49m\u001b[43m(\u001b[49m\u001b[43mfn\u001b[49m\u001b[43m,\u001b[49m\u001b[43m \u001b[49m\u001b[38;5;241;43m*\u001b[39;49m\u001b[43margs\u001b[49m\u001b[43m)\u001b[49m\n",
      "File \u001b[1;32mc:\\pets\\task_creator\\env_tasker\\Lib\\site-packages\\langchain_core\\runnables\\base.py:522\u001b[0m, in \u001b[0;36mRunnable.batch.<locals>.invoke\u001b[1;34m(input, config)\u001b[0m\n\u001b[0;32m    520\u001b[0m         \u001b[38;5;28;01mreturn\u001b[39;00m e\n\u001b[0;32m    521\u001b[0m \u001b[38;5;28;01melse\u001b[39;00m:\n\u001b[1;32m--> 522\u001b[0m     \u001b[38;5;28;01mreturn\u001b[39;00m \u001b[38;5;28;43mself\u001b[39;49m\u001b[38;5;241;43m.\u001b[39;49m\u001b[43minvoke\u001b[49m\u001b[43m(\u001b[49m\u001b[38;5;28;43minput\u001b[39;49m\u001b[43m,\u001b[49m\u001b[43m \u001b[49m\u001b[43mconfig\u001b[49m\u001b[43m,\u001b[49m\u001b[43m \u001b[49m\u001b[38;5;241;43m*\u001b[39;49m\u001b[38;5;241;43m*\u001b[39;49m\u001b[43mkwargs\u001b[49m\u001b[43m)\u001b[49m\n",
      "File \u001b[1;32mc:\\pets\\task_creator\\env_tasker\\Lib\\site-packages\\langchain_core\\output_parsers\\base.py:167\u001b[0m, in \u001b[0;36mBaseOutputParser.invoke\u001b[1;34m(self, input, config)\u001b[0m\n\u001b[0;32m    163\u001b[0m \u001b[38;5;28;01mdef\u001b[39;00m \u001b[38;5;21minvoke\u001b[39m(\n\u001b[0;32m    164\u001b[0m     \u001b[38;5;28mself\u001b[39m, \u001b[38;5;28minput\u001b[39m: Union[\u001b[38;5;28mstr\u001b[39m, BaseMessage], config: Optional[RunnableConfig] \u001b[38;5;241m=\u001b[39m \u001b[38;5;28;01mNone\u001b[39;00m\n\u001b[0;32m    165\u001b[0m ) \u001b[38;5;241m-\u001b[39m\u001b[38;5;241m>\u001b[39m T:\n\u001b[0;32m    166\u001b[0m     \u001b[38;5;28;01mif\u001b[39;00m \u001b[38;5;28misinstance\u001b[39m(\u001b[38;5;28minput\u001b[39m, BaseMessage):\n\u001b[1;32m--> 167\u001b[0m         \u001b[38;5;28;01mreturn\u001b[39;00m \u001b[38;5;28;43mself\u001b[39;49m\u001b[38;5;241;43m.\u001b[39;49m\u001b[43m_call_with_config\u001b[49m\u001b[43m(\u001b[49m\n\u001b[0;32m    168\u001b[0m \u001b[43m            \u001b[49m\u001b[38;5;28;43;01mlambda\u001b[39;49;00m\u001b[43m \u001b[49m\u001b[43minner_input\u001b[49m\u001b[43m:\u001b[49m\u001b[43m \u001b[49m\u001b[38;5;28;43mself\u001b[39;49m\u001b[38;5;241;43m.\u001b[39;49m\u001b[43mparse_result\u001b[49m\u001b[43m(\u001b[49m\n\u001b[0;32m    169\u001b[0m \u001b[43m                \u001b[49m\u001b[43m[\u001b[49m\u001b[43mChatGeneration\u001b[49m\u001b[43m(\u001b[49m\u001b[43mmessage\u001b[49m\u001b[38;5;241;43m=\u001b[39;49m\u001b[43minner_input\u001b[49m\u001b[43m)\u001b[49m\u001b[43m]\u001b[49m\n\u001b[0;32m    170\u001b[0m \u001b[43m            \u001b[49m\u001b[43m)\u001b[49m\u001b[43m,\u001b[49m\n\u001b[0;32m    171\u001b[0m \u001b[43m            \u001b[49m\u001b[38;5;28;43minput\u001b[39;49m\u001b[43m,\u001b[49m\n\u001b[0;32m    172\u001b[0m \u001b[43m            \u001b[49m\u001b[43mconfig\u001b[49m\u001b[43m,\u001b[49m\n\u001b[0;32m    173\u001b[0m \u001b[43m            \u001b[49m\u001b[43mrun_type\u001b[49m\u001b[38;5;241;43m=\u001b[39;49m\u001b[38;5;124;43m\"\u001b[39;49m\u001b[38;5;124;43mparser\u001b[39;49m\u001b[38;5;124;43m\"\u001b[39;49m\u001b[43m,\u001b[49m\n\u001b[0;32m    174\u001b[0m \u001b[43m        \u001b[49m\u001b[43m)\u001b[49m\n\u001b[0;32m    175\u001b[0m     \u001b[38;5;28;01melse\u001b[39;00m:\n\u001b[0;32m    176\u001b[0m         \u001b[38;5;28;01mreturn\u001b[39;00m \u001b[38;5;28mself\u001b[39m\u001b[38;5;241m.\u001b[39m_call_with_config(\n\u001b[0;32m    177\u001b[0m             \u001b[38;5;28;01mlambda\u001b[39;00m inner_input: \u001b[38;5;28mself\u001b[39m\u001b[38;5;241m.\u001b[39mparse_result([Generation(text\u001b[38;5;241m=\u001b[39minner_input)]),\n\u001b[0;32m    178\u001b[0m             \u001b[38;5;28minput\u001b[39m,\n\u001b[0;32m    179\u001b[0m             config,\n\u001b[0;32m    180\u001b[0m             run_type\u001b[38;5;241m=\u001b[39m\u001b[38;5;124m\"\u001b[39m\u001b[38;5;124mparser\u001b[39m\u001b[38;5;124m\"\u001b[39m,\n\u001b[0;32m    181\u001b[0m         )\n",
      "File \u001b[1;32mc:\\pets\\task_creator\\env_tasker\\Lib\\site-packages\\langchain_core\\runnables\\base.py:975\u001b[0m, in \u001b[0;36mRunnable._call_with_config\u001b[1;34m(self, func, input, config, run_type, **kwargs)\u001b[0m\n\u001b[0;32m    971\u001b[0m     context \u001b[38;5;241m=\u001b[39m copy_context()\n\u001b[0;32m    972\u001b[0m     context\u001b[38;5;241m.\u001b[39mrun(var_child_runnable_config\u001b[38;5;241m.\u001b[39mset, child_config)\n\u001b[0;32m    973\u001b[0m     output \u001b[38;5;241m=\u001b[39m cast(\n\u001b[0;32m    974\u001b[0m         Output,\n\u001b[1;32m--> 975\u001b[0m         \u001b[43mcontext\u001b[49m\u001b[38;5;241;43m.\u001b[39;49m\u001b[43mrun\u001b[49m\u001b[43m(\u001b[49m\n\u001b[0;32m    976\u001b[0m \u001b[43m            \u001b[49m\u001b[43mcall_func_with_variable_args\u001b[49m\u001b[43m,\u001b[49m\n\u001b[0;32m    977\u001b[0m \u001b[43m            \u001b[49m\u001b[43mfunc\u001b[49m\u001b[43m,\u001b[49m\u001b[43m  \u001b[49m\u001b[38;5;66;43;03m# type: ignore[arg-type]\u001b[39;49;00m\n\u001b[0;32m    978\u001b[0m \u001b[43m            \u001b[49m\u001b[38;5;28;43minput\u001b[39;49m\u001b[43m,\u001b[49m\u001b[43m  \u001b[49m\u001b[38;5;66;43;03m# type: ignore[arg-type]\u001b[39;49;00m\n\u001b[0;32m    979\u001b[0m \u001b[43m            \u001b[49m\u001b[43mconfig\u001b[49m\u001b[43m,\u001b[49m\n\u001b[0;32m    980\u001b[0m \u001b[43m            \u001b[49m\u001b[43mrun_manager\u001b[49m\u001b[43m,\u001b[49m\n\u001b[0;32m    981\u001b[0m \u001b[43m            \u001b[49m\u001b[38;5;241;43m*\u001b[39;49m\u001b[38;5;241;43m*\u001b[39;49m\u001b[43mkwargs\u001b[49m\u001b[43m,\u001b[49m\n\u001b[0;32m    982\u001b[0m \u001b[43m        \u001b[49m\u001b[43m)\u001b[49m,\n\u001b[0;32m    983\u001b[0m     )\n\u001b[0;32m    984\u001b[0m \u001b[38;5;28;01mexcept\u001b[39;00m \u001b[38;5;167;01mBaseException\u001b[39;00m \u001b[38;5;28;01mas\u001b[39;00m e:\n\u001b[0;32m    985\u001b[0m     run_manager\u001b[38;5;241m.\u001b[39mon_chain_error(e)\n",
      "File \u001b[1;32mc:\\pets\\task_creator\\env_tasker\\Lib\\site-packages\\langchain_core\\runnables\\config.py:323\u001b[0m, in \u001b[0;36mcall_func_with_variable_args\u001b[1;34m(func, input, config, run_manager, **kwargs)\u001b[0m\n\u001b[0;32m    321\u001b[0m \u001b[38;5;28;01mif\u001b[39;00m run_manager \u001b[38;5;129;01mis\u001b[39;00m \u001b[38;5;129;01mnot\u001b[39;00m \u001b[38;5;28;01mNone\u001b[39;00m \u001b[38;5;129;01mand\u001b[39;00m accepts_run_manager(func):\n\u001b[0;32m    322\u001b[0m     kwargs[\u001b[38;5;124m\"\u001b[39m\u001b[38;5;124mrun_manager\u001b[39m\u001b[38;5;124m\"\u001b[39m] \u001b[38;5;241m=\u001b[39m run_manager\n\u001b[1;32m--> 323\u001b[0m \u001b[38;5;28;01mreturn\u001b[39;00m \u001b[43mfunc\u001b[49m\u001b[43m(\u001b[49m\u001b[38;5;28;43minput\u001b[39;49m\u001b[43m,\u001b[49m\u001b[43m \u001b[49m\u001b[38;5;241;43m*\u001b[39;49m\u001b[38;5;241;43m*\u001b[39;49m\u001b[43mkwargs\u001b[49m\u001b[43m)\u001b[49m\n",
      "File \u001b[1;32mc:\\pets\\task_creator\\env_tasker\\Lib\\site-packages\\langchain_core\\output_parsers\\base.py:168\u001b[0m, in \u001b[0;36mBaseOutputParser.invoke.<locals>.<lambda>\u001b[1;34m(inner_input)\u001b[0m\n\u001b[0;32m    163\u001b[0m \u001b[38;5;28;01mdef\u001b[39;00m \u001b[38;5;21minvoke\u001b[39m(\n\u001b[0;32m    164\u001b[0m     \u001b[38;5;28mself\u001b[39m, \u001b[38;5;28minput\u001b[39m: Union[\u001b[38;5;28mstr\u001b[39m, BaseMessage], config: Optional[RunnableConfig] \u001b[38;5;241m=\u001b[39m \u001b[38;5;28;01mNone\u001b[39;00m\n\u001b[0;32m    165\u001b[0m ) \u001b[38;5;241m-\u001b[39m\u001b[38;5;241m>\u001b[39m T:\n\u001b[0;32m    166\u001b[0m     \u001b[38;5;28;01mif\u001b[39;00m \u001b[38;5;28misinstance\u001b[39m(\u001b[38;5;28minput\u001b[39m, BaseMessage):\n\u001b[0;32m    167\u001b[0m         \u001b[38;5;28;01mreturn\u001b[39;00m \u001b[38;5;28mself\u001b[39m\u001b[38;5;241m.\u001b[39m_call_with_config(\n\u001b[1;32m--> 168\u001b[0m             \u001b[38;5;28;01mlambda\u001b[39;00m inner_input: \u001b[38;5;28;43mself\u001b[39;49m\u001b[38;5;241;43m.\u001b[39;49m\u001b[43mparse_result\u001b[49m\u001b[43m(\u001b[49m\n\u001b[0;32m    169\u001b[0m \u001b[43m                \u001b[49m\u001b[43m[\u001b[49m\u001b[43mChatGeneration\u001b[49m\u001b[43m(\u001b[49m\u001b[43mmessage\u001b[49m\u001b[38;5;241;43m=\u001b[39;49m\u001b[43minner_input\u001b[49m\u001b[43m)\u001b[49m\u001b[43m]\u001b[49m\n\u001b[0;32m    170\u001b[0m \u001b[43m            \u001b[49m\u001b[43m)\u001b[49m,\n\u001b[0;32m    171\u001b[0m             \u001b[38;5;28minput\u001b[39m,\n\u001b[0;32m    172\u001b[0m             config,\n\u001b[0;32m    173\u001b[0m             run_type\u001b[38;5;241m=\u001b[39m\u001b[38;5;124m\"\u001b[39m\u001b[38;5;124mparser\u001b[39m\u001b[38;5;124m\"\u001b[39m,\n\u001b[0;32m    174\u001b[0m         )\n\u001b[0;32m    175\u001b[0m     \u001b[38;5;28;01melse\u001b[39;00m:\n\u001b[0;32m    176\u001b[0m         \u001b[38;5;28;01mreturn\u001b[39;00m \u001b[38;5;28mself\u001b[39m\u001b[38;5;241m.\u001b[39m_call_with_config(\n\u001b[0;32m    177\u001b[0m             \u001b[38;5;28;01mlambda\u001b[39;00m inner_input: \u001b[38;5;28mself\u001b[39m\u001b[38;5;241m.\u001b[39mparse_result([Generation(text\u001b[38;5;241m=\u001b[39minner_input)]),\n\u001b[0;32m    178\u001b[0m             \u001b[38;5;28minput\u001b[39m,\n\u001b[0;32m    179\u001b[0m             config,\n\u001b[0;32m    180\u001b[0m             run_type\u001b[38;5;241m=\u001b[39m\u001b[38;5;124m\"\u001b[39m\u001b[38;5;124mparser\u001b[39m\u001b[38;5;124m\"\u001b[39m,\n\u001b[0;32m    181\u001b[0m         )\n",
      "File \u001b[1;32mc:\\pets\\task_creator\\env_tasker\\Lib\\site-packages\\langchain\\output_parsers\\openai_functions.py:102\u001b[0m, in \u001b[0;36mJsonOutputFunctionsParser.parse_result\u001b[1;34m(self, result, partial)\u001b[0m\n\u001b[0;32m     98\u001b[0m         \u001b[38;5;28;01mreturn\u001b[39;00m json\u001b[38;5;241m.\u001b[39mloads(\n\u001b[0;32m     99\u001b[0m             function_call[\u001b[38;5;124m\"\u001b[39m\u001b[38;5;124marguments\u001b[39m\u001b[38;5;124m\"\u001b[39m], strict\u001b[38;5;241m=\u001b[39m\u001b[38;5;28mself\u001b[39m\u001b[38;5;241m.\u001b[39mstrict\n\u001b[0;32m    100\u001b[0m         )\n\u001b[0;32m    101\u001b[0m     \u001b[38;5;28;01mexcept\u001b[39;00m (json\u001b[38;5;241m.\u001b[39mJSONDecodeError, \u001b[38;5;167;01mTypeError\u001b[39;00m) \u001b[38;5;28;01mas\u001b[39;00m exc:\n\u001b[1;32m--> 102\u001b[0m         \u001b[38;5;28;01mraise\u001b[39;00m OutputParserException(\n\u001b[0;32m    103\u001b[0m             \u001b[38;5;124mf\u001b[39m\u001b[38;5;124m\"\u001b[39m\u001b[38;5;124mCould not parse function call data: \u001b[39m\u001b[38;5;132;01m{\u001b[39;00mexc\u001b[38;5;132;01m}\u001b[39;00m\u001b[38;5;124m\"\u001b[39m\n\u001b[0;32m    104\u001b[0m         )\n\u001b[0;32m    105\u001b[0m \u001b[38;5;28;01melse\u001b[39;00m:\n\u001b[0;32m    106\u001b[0m     \u001b[38;5;28;01mtry\u001b[39;00m:\n",
      "\u001b[1;31mOutputParserException\u001b[0m: Could not parse function call data: Expecting ',' delimiter: line 1 column 457 (char 456)"
     ]
    }
   ],
   "source": [
    "c = (\n",
    "    prompt_for_parser\n",
    "    | model.bind(function_call={\"name\": \"task_info\"}, functions=funcs)\n",
    "    | JsonOutputFunctionsParser()\n",
    "    | RunnableParallel(\n",
    "        verificated=(\n",
    "            prompt_for_verification\n",
    "            | model.bind(function_call={\"name\": \"solution_check\"}, functions=funcs)\n",
    "            | JsonOutputFunctionsParser()\n",
    "            | itemgetter(\"verificated\")\n",
    "        ),\n",
    "        name=itemgetter(\"name\"),\n",
    "        description=itemgetter(\"description\"),\n",
    "        solution=itemgetter(\"solution\"),\n",
    "    )\n",
    ")\n",
    "\n",
    "result = c.batch(\n",
    "    [\n",
    "        {\n",
    "            \"context\": splitted_texts[i],\n",
    "            \"question\": f\"Tell me about {tasknames[i]} and return it's solution. RETURN ERROR if there are no code problem description or solution\",\n",
    "        }\n",
    "        for i in range(len(tasknames))\n",
    "    ]\n",
    ")\n",
    "# c.get_graph().print_ascii()"
   ]
  },
  {
   "cell_type": "code",
   "execution_count": null,
   "metadata": {},
   "outputs": [],
   "source": []
  }
 ],
 "metadata": {
  "kernelspec": {
   "display_name": "env_tasker",
   "language": "python",
   "name": "python3"
  },
  "language_info": {
   "codemirror_mode": {
    "name": "ipython",
    "version": 3
   },
   "file_extension": ".py",
   "mimetype": "text/x-python",
   "name": "python",
   "nbconvert_exporter": "python",
   "pygments_lexer": "ipython3",
   "version": "3.11.6"
  }
 },
 "nbformat": 4,
 "nbformat_minor": 2
}
