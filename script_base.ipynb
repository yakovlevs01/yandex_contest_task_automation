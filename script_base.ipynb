{
 "cells": [
  {
   "cell_type": "code",
   "execution_count": 1,
   "metadata": {},
   "outputs": [
    {
     "data": {
      "text/plain": [
       "'./new_task'"
      ]
     },
     "execution_count": 1,
     "metadata": {},
     "output_type": "execute_result"
    }
   ],
   "source": [
    "# Копируем папку\n",
    "import shutil\n",
    "\n",
    "dirname = \"new_task\"\n",
    "src_dir = \"./sample\"\n",
    "dst_dir = \"./\" + dirname\n",
    "shutil.copytree(src_dir, dst_dir)\n"
   ]
  },
  {
   "cell_type": "code",
   "execution_count": 2,
   "metadata": {},
   "outputs": [],
   "source": [
    "# Поменять ./new_task/solutions/main.py\n"
   ]
  },
  {
   "cell_type": "code",
   "execution_count": 3,
   "metadata": {},
   "outputs": [],
   "source": [
    "# Сгенерить тесты\n",
    "\n",
    "\n",
    "# TODO: LLM-кой сделать тесты\n",
    "def create_test_cases() -> list[str]:\n",
    "    pass\n",
    "\n",
    "\n",
    "test_cases = [\"123\\n321\", \"555\\n333\", \"111\\n111\"]\n",
    "\n",
    "\n",
    "for i in range(len(test_cases)):\n",
    "    with open(f\"./{dirname}/tests/{i + 1:02}\", mode=\"w\", encoding=\"utf-8\") as file_test:\n",
    "        file_test.write(test_cases[i])\n"
   ]
  },
  {
   "cell_type": "code",
   "execution_count": 4,
   "metadata": {},
   "outputs": [],
   "source": [
    "# Сгенерить ответы\n",
    "import subprocess\n",
    "import os\n",
    "\n",
    "# К этому моменту в папке ответов еще нет, так что это количество именно тестов\n",
    "n_tests = len([x for x in os.listdir(f\"./{dirname}/tests/\") if not x.endswith(\".a\")])\n",
    "\n",
    "commands = [\n",
    "    f\"python ./{dirname}/solutions/main.py < ./{dirname}/tests/{test_number:02} > ./{dirname}/tests/{test_number:02}.a\"\n",
    "    for test_number in range(1, n_tests + 1)\n",
    "]\n",
    "\n",
    "for cmd in commands:\n",
    "    process = subprocess.run(cmd, shell=True, text=True, capture_output=True)\n"
   ]
  },
  {
   "cell_type": "code",
   "execution_count": 5,
   "metadata": {},
   "outputs": [
    {
     "data": {
      "text/plain": [
       "'./new_task/statements/russian/example.01.a'"
      ]
     },
     "execution_count": 5,
     "metadata": {},
     "output_type": "execute_result"
    }
   ],
   "source": [
    "# Пример\n",
    "import shutil\n",
    "\n",
    "src_test = f\"./{dirname}/tests/01\"\n",
    "src_ans = f\"./{dirname}/tests/01.a\"\n",
    "dst_test = f\"./{dirname}/statements/russian/example.01\"\n",
    "dst_ans = f\"./{dirname}/statements/russian/example.01.a\"\n",
    "shutil.copy(src_test, dst_test)\n",
    "shutil.copy(src_ans, dst_ans)\n"
   ]
  },
  {
   "cell_type": "code",
   "execution_count": 6,
   "metadata": {},
   "outputs": [
    {
     "name": "stdout",
     "output_type": "stream",
     "text": [
      "<?xml version=\"1.0\" encoding=\"utf-8\" standalone=\"no\"?>\n",
      "<problem revision=\"4\" short-name=\"\" url=\"\">\n",
      "    <names>\n",
      "        <name language=\"russian\" value=\"Название задачи\"/>\n",
      "    </names>\n",
      "    <statements>\n",
      "        <statement charset=\"UTF-8\" language=\"russian\" mathjax=\"true\" path=\"statements/russian/problem.tex\" type=\"application/x-tex\"/>\n",
      "    </statements>\n",
      "    <judging input-file=\"\" output-file=\"\" run-count=\"1\">\n",
      "        <testset name=\"tests\">\n",
      "            <time-limit>1000</time-limit>\n",
      "            <memory-limit>268435456</memory-limit>\n",
      "            <test-count>3</test-count>\n",
      "            <input-path-pattern>tests/%02d</input-path-pattern>\n",
      "            <answer-path-pattern>tests/%02d.a</answer-path-pattern>\n",
      "            <tests>\n",
      "                <test method=\"manual\" sample=\"true\"/>\n",
      "                <test method=\"manual\"/>\n",
      "            </tests>\n",
      "        </testset>\n",
      "    </judging>\n",
      "    <files>\n",
      "        <resources>\n",
      "            <file path=\"files/testlib.h\" type=\"h.g++\"/>\n",
      "        </resources>\n",
      "    </files>\n",
      "    <assets>\n",
      "        <checker name=\"checker_1.py\" type=\"testlib\">\n",
      "            <source path=\"files/checker_1.py\" type=\"Python\"/>\n",
      "        </checker>\n",
      "        <solutions>\n",
      "            <solution tag=\"main\">\n",
      "                <source path=\"solutions/main.py\" type=\"python.3\"/>\n",
      "            </solution>\n",
      "        </solutions>\n",
      "    </assets>\n",
      "    <properties>\n",
      "        <property name=\"tests-wellformed\" value=\"true\"/>\n",
      "    </properties>\n",
      "    <stresses>\n",
      "        <stress-count>0</stress-count>\n",
      "        <stress-path-pattern>stresses/%03d</stress-path-pattern>\n",
      "        <list/>\n",
      "    </stresses>\n",
      "</problem>\n",
      "\n"
     ]
    }
   ],
   "source": [
    "# Изменяем problem.xml\n",
    "with open(f\"./{dirname}/problem.xml\", mode=\"r\", encoding=\"utf-8\") as file:\n",
    "    content = file.read()\n",
    "\n",
    "task_name = \"Название задачи\"\n",
    "\n",
    "content = content.replace(\"placeholder_task_name\", task_name)\n",
    "content = content.replace(\"placeholder_ntests\", str(n_tests))\n",
    "\n",
    "task_price = 1\n",
    "if task_price > 1:\n",
    "    content = content.replace(\"checker_1.py\", f\"checker_{task_price}.py\")\n",
    "    content = content.replace(\"files/checker_1.py\", f\"checker_{task_price}.py\")\n",
    "\n",
    "with open(f\"./{dirname}/problem.xml\", mode=\"w\", encoding=\"utf-8\") as file:\n",
    "    file.write(content)\n"
   ]
  },
  {
   "cell_type": "code",
   "execution_count": 7,
   "metadata": {},
   "outputs": [
    {
     "name": "stdout",
     "output_type": "stream",
     "text": [
      "\\begin{problem}\n",
      "\n",
      "Содержание задачи\n",
      "\n",
      "\\InputFile\n",
      "Особенности входных данных\n",
      "\n",
      "\\OutputFile\n",
      "Особенности вывода\n",
      "\n",
      "\\Example\n",
      "\n",
      "\\begin{example}\n",
      "\\exmpfile{example.01}{example.01.a}%\n",
      "\\end{example}\n",
      "\n",
      "\\Note\n",
      "Заметки\n",
      "\n",
      "\\end{problem}\n",
      "\n",
      "\n"
     ]
    }
   ],
   "source": [
    "# Поменять условие\n",
    "with open(f\"./{dirname}/statements/russian/problem.tex\", mode=\"r\", encoding=\"utf-8\") as file:\n",
    "    content = file.read()\n",
    "\n",
    "legend = \"Содержание задачи\"\n",
    "input_info = \"Особенности входных данных\"\n",
    "output_info = \"Особенности вывода\"\n",
    "additional_notes = \"Заметки\"\n",
    "\n",
    "content = content.replace(\"placeholder_legend\", legend)\n",
    "content = content.replace(\"placeholder_input\", input_info)\n",
    "content = content.replace(\"placeholder_output\", output_info)\n",
    "content = content.replace(\"placeholder_note\", additional_notes)\n",
    "\n",
    "with open(f\"./{dirname}/statements/russian/problem.tex\", mode=\"w\", encoding=\"utf-8\") as file:\n",
    "    file.write(content)\n"
   ]
  },
  {
   "cell_type": "code",
   "execution_count": null,
   "metadata": {},
   "outputs": [],
   "source": []
  }
 ],
 "metadata": {
  "kernelspec": {
   "display_name": "Python 3",
   "language": "python",
   "name": "python3"
  },
  "language_info": {
   "codemirror_mode": {
    "name": "ipython",
    "version": 3
   },
   "file_extension": ".py",
   "mimetype": "text/x-python",
   "name": "python",
   "nbconvert_exporter": "python",
   "pygments_lexer": "ipython3",
   "version": "3.11.6"
  }
 },
 "nbformat": 4,
 "nbformat_minor": 2
}
