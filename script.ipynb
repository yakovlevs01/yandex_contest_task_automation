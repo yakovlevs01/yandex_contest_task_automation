{
 "cells": [
  {
   "cell_type": "code",
   "execution_count": 116,
   "metadata": {},
   "outputs": [
    {
     "data": {
      "text/plain": [
       "'./new_task'"
      ]
     },
     "execution_count": 116,
     "metadata": {},
     "output_type": "execute_result"
    }
   ],
   "source": [
    "# Копируем папку\n",
    "import shutil\n",
    "\n",
    "dirname = \"new_task\"\n",
    "src_dir = \"./sample\"\n",
    "dst_dir = \"./\" + dirname\n",
    "shutil.copytree(src_dir, dst_dir)\n"
   ]
  },
  {
   "cell_type": "code",
   "execution_count": 117,
   "metadata": {},
   "outputs": [],
   "source": [
    "# Поменять ./new_task/solutions/main.py\n",
    "solution_text = \"\"\"\n",
    "def make_set(element):\n",
    "    new_set = set(element)\n",
    "    return new_set, len(new_set)\"\"\"\n",
    "\n",
    "with open(f\"./{dirname}/solutions/main.py\", mode=\"w\", encoding=\"utf-8\") as file:\n",
    "    file.write(solution_text)\n"
   ]
  },
  {
   "cell_type": "code",
   "execution_count": 118,
   "metadata": {},
   "outputs": [],
   "source": [
    "# Сгенерить тесты\n",
    "\n",
    "\n",
    "# TODO: LLM-кой сделать тесты\n",
    "def create_test_cases() -> list[str]:\n",
    "    pass\n",
    "\n",
    "\n",
    "test_cases = [\n",
    "    \"тестовая_строка\",\n",
    "    \"[4, 8, 15, 16, 23, 42, 15]\",\n",
    "    \"[1, 2, 3, 4, 5]\",\n",
    "    \"12345\",\n",
    "    \"[1, 2, 2, 3, 4, 4, 5]\",\n",
    "    \"[]\",\n",
    "    \"''\",\n",
    "    \"abc!@#123\",\n",
    "    \"こんにちは\",\n",
    "    \"['', ' ', 'a', ' ', '']\",\n",
    "    \"['123', 123]\",\n",
    "    \"[1.1, 1.10, 1.100]\",\n",
    "    \"['🙂', '😀', '🙂']\",\n",
    "    \"range(10000)\",\n",
    "    \"['', None, False, 0, 0]\",\n",
    "]\n",
    "\n",
    "\n",
    "for i in range(len(test_cases)):\n",
    "    with open(f\"./{dirname}/tests/{i + 1:02}\", mode=\"w\", encoding=\"utf-8\") as file_test:\n",
    "        file_test.write(test_cases[i])\n"
   ]
  },
  {
   "cell_type": "code",
   "execution_count": 119,
   "metadata": {},
   "outputs": [],
   "source": [
    "type_of_task = \"function\"  # \"basic\"\n"
   ]
  },
  {
   "cell_type": "code",
   "execution_count": 120,
   "metadata": {},
   "outputs": [],
   "source": [
    "# Сгенерить ответы\n",
    "import subprocess\n",
    "import os\n",
    "\n",
    "# К этому моменту в папке ответов еще нет, так что это количество именно тестов\n",
    "n_tests = len([x for x in os.listdir(f\"./{dirname}/tests/\") if not x.endswith(\".a\")])\n",
    "\n",
    "\n",
    "if type_of_task == \"function\":\n",
    "    with open(f\"./{dirname}/files/participantSolution.py\", mode=\"w\", encoding=\"utf-8\") as file:\n",
    "        file.write(solution_text)\n",
    "\n",
    "    commands = [\n",
    "        f\"python ./{dirname}/files/run_tests.py < ./{dirname}/tests/{test_number:02} > ./{dirname}/tests/{test_number:02}.a\"\n",
    "        for test_number in range(1, n_tests + 1)\n",
    "    ]\n",
    "\n",
    "    for cmd in commands:\n",
    "        process = subprocess.run(cmd, shell=True, text=True, capture_output=True)\n",
    "\n",
    "    subprocess.run(f\"del ./{dirname}/files/participantSolution.py\", shell=True, text=True, capture_output=True)\n",
    "else:\n",
    "    # basic prog task\n",
    "    commands = [\n",
    "        f\"python ./{dirname}/solutions/main.py < ./{dirname}/tests/{test_number:02} > ./{dirname}/tests/{test_number:02}.a\"\n",
    "        for test_number in range(1, n_tests + 1)\n",
    "    ]\n",
    "    for cmd in commands:\n",
    "        process = subprocess.run(cmd, shell=True, text=True, capture_output=True)\n"
   ]
  },
  {
   "cell_type": "code",
   "execution_count": 121,
   "metadata": {},
   "outputs": [
    {
     "data": {
      "text/plain": [
       "'./new_task/statements/russian/example.01.a'"
      ]
     },
     "execution_count": 121,
     "metadata": {},
     "output_type": "execute_result"
    }
   ],
   "source": [
    "# Копирование примера\n",
    "import shutil\n",
    "\n",
    "src_test = f\"./{dirname}/tests/01\"\n",
    "src_ans = f\"./{dirname}/tests/01.a\"\n",
    "dst_test = f\"./{dirname}/statements/russian/example.01\"\n",
    "dst_ans = f\"./{dirname}/statements/russian/example.01.a\"\n",
    "shutil.copy(src_test, dst_test)\n",
    "shutil.copy(src_ans, dst_ans)\n"
   ]
  },
  {
   "cell_type": "code",
   "execution_count": 122,
   "metadata": {},
   "outputs": [],
   "source": [
    "# Изменяем problem.xml\n",
    "with open(f\"./{dirname}/problem.xml\", mode=\"r\", encoding=\"utf-8\") as file:\n",
    "    content = file.read()\n",
    "\n",
    "task_name = \"Название задачи\"\n",
    "\n",
    "content = content.replace(\"placeholder_task_name\", task_name)\n",
    "content = content.replace(\"placeholder_ntests\", str(n_tests))\n",
    "\n",
    "task_price = 1\n",
    "if task_price > 1:\n",
    "    content = content.replace(\"checker_1.py\", f\"checker_{task_price}.py\")\n",
    "    content = content.replace(\"files/checker_1.py\", f\"checker_{task_price}.py\")\n",
    "\n",
    "with open(f\"./{dirname}/problem.xml\", mode=\"w\", encoding=\"utf-8\") as file:\n",
    "    file.write(content)\n"
   ]
  },
  {
   "cell_type": "code",
   "execution_count": 123,
   "metadata": {},
   "outputs": [],
   "source": [
    "# Поменять условие\n",
    "with open(f\"./{dirname}/statements/russian/problem.tex\", mode=\"r\", encoding=\"utf-8\") as file:\n",
    "    content = file.read()\n",
    "\n",
    "legend = \"Для первого знакомства с множествами решите простую задачу. Напишите функцию `make_set`, которая получает на вход одну строку или список чисел. Преобразуйте их в множество и посчитайте его мощность (количество элементов). На выходе функция должна отдавать кортеж из получившегося множества и его мощности.\"\n",
    "input_info = \"Любой объект из следующих: `list[Any]`, `tuple[Any]`, `str`, `range`\"\n",
    "output_info = \"`tuple[set[Any], int]`\"\n",
    "additional_notes = (\n",
    "    \"Ваше решение должно содержать только функцию с именем `make_set`, без её вызова и без ввода/вывода данных.\"\n",
    ")\n",
    "\n",
    "content = content.replace(\"placeholder_legend\", legend)\n",
    "content = content.replace(\"placeholder_input\", input_info)\n",
    "content = content.replace(\"placeholder_output\", output_info)\n",
    "content = content.replace(\"placeholder_note\", additional_notes)\n",
    "\n",
    "with open(f\"./{dirname}/statements/russian/problem.tex\", mode=\"w\", encoding=\"utf-8\") as file:\n",
    "    file.write(content)\n"
   ]
  }
 ],
 "metadata": {
  "kernelspec": {
   "display_name": "Python 3",
   "language": "python",
   "name": "python3"
  },
  "language_info": {
   "codemirror_mode": {
    "name": "ipython",
    "version": 3
   },
   "file_extension": ".py",
   "mimetype": "text/x-python",
   "name": "python",
   "nbconvert_exporter": "python",
   "pygments_lexer": "ipython3",
   "version": "3.11.6"
  }
 },
 "nbformat": 4,
 "nbformat_minor": 2
}
