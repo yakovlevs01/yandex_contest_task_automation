{
 "cells": [
  {
   "cell_type": "code",
   "execution_count": 81,
   "metadata": {},
   "outputs": [],
   "source": [
    "import subprocess\n",
    "import os\n",
    "import shutil\n",
    "import os\n",
    "import zipfile\n",
    "import random\n",
    "\n",
    "\n",
    "def generate_mixed_case_string(s):\n",
    "    result = \"\".join(random.choice([c.upper(), c.lower()]) for c in s)\n",
    "    return result\n",
    "\n",
    "\n",
    "def zip_folder(folder_path, zip_file_name):\n",
    "    # Create a ZipFile object in write mode\n",
    "    with zipfile.ZipFile(zip_file_name, \"w\", zipfile.ZIP_DEFLATED) as zipf:\n",
    "        # Walk through the directory\n",
    "        for root, dirs, files in os.walk(folder_path):\n",
    "            for file in files:\n",
    "                # Create the complete filepath of file in directory\n",
    "                file_path = os.path.join(root, file)\n",
    "                # Add file to zip\n",
    "                zipf.write(file_path, os.path.relpath(file_path, folder_path))"
   ]
  },
  {
   "cell_type": "code",
   "execution_count": 82,
   "metadata": {},
   "outputs": [],
   "source": [
    "task_name = \"class_data_3.3.1\"\n",
    "task_type = \"file\"  # \"function\"\n",
    "\n",
    "solution_text = r\"\"\"\n",
    "filename = input()\n",
    "with open(filename, \"r\") as file:\n",
    "    for i in range(8):\n",
    "        print(file.readline(), end=\"\")\n",
    "\"\"\"\n",
    "\n",
    "\n",
    "legend = r\"\"\"Напишите программу, которая выводит на экран первые восемь строк содержимого файла, имя которого необходимо прочитать из терминала (например, `task.txt`). Имя файла заранее не известно.\"\"\"\n",
    "\n",
    "input_info = r\"\\verb|str|\"\n",
    "output_info = r\"8 \\verb|str|\"\n",
    "additional_notes = r\"\"\"Гарантируется, что в файле найдутся 8 строк.\"\"\"\n",
    "\n",
    "test_cases = [\n",
    "    \"Kipling.txt\",\n",
    "    \"Rilke.txt\",\n",
    "    \"Esenin.txt\",\n",
    "    \"VariableUsesOfKg.md\",\n",
    "    \"Pasternak.md\",\n",
    "]\n",
    "\n",
    "if task_type == \"file+out\":\n",
    "    output_filename = \"somefile.txt\""
   ]
  },
  {
   "cell_type": "code",
   "execution_count": 83,
   "metadata": {},
   "outputs": [
    {
     "data": {
      "text/plain": [
       "'./class_data_3.3.1'"
      ]
     },
     "execution_count": 83,
     "metadata": {},
     "output_type": "execute_result"
    }
   ],
   "source": [
    "# Копируем папку\n",
    "dirname = task_name\n",
    "src_dir = \"./sample\"\n",
    "dst_dir = \"./\" + dirname\n",
    "try:\n",
    "    shutil.rmtree(dst_dir)\n",
    "    os.remove(f\"./{task_name}.zip\")\n",
    "except FileNotFoundError:\n",
    "    pass\n",
    "shutil.copytree(src_dir, dst_dir)"
   ]
  },
  {
   "cell_type": "code",
   "execution_count": 84,
   "metadata": {},
   "outputs": [],
   "source": [
    "# Поменять ./new_task/solutions/main.py\n",
    "\n",
    "\n",
    "with open(f\"./{dirname}/solutions/main.py\", mode=\"w\", encoding=\"utf-8\") as file:\n",
    "    file.write(solution_text)"
   ]
  },
  {
   "cell_type": "code",
   "execution_count": 85,
   "metadata": {},
   "outputs": [],
   "source": [
    "# Сгенерить тесты\n",
    "\n",
    "\n",
    "# TODO: LLM-кой сделать тесты\n",
    "def create_test_cases() -> list[str]:\n",
    "    pass\n",
    "\n",
    "\n",
    "n_tests = len(test_cases)\n",
    "for i in range(n_tests):\n",
    "    with open(f\"./{dirname}/tests/{i + 1:02}\", mode=\"w\", encoding=\"utf-8\") as file_test:\n",
    "        file_test.write(test_cases[i])"
   ]
  },
  {
   "cell_type": "code",
   "execution_count": 86,
   "metadata": {},
   "outputs": [
    {
     "name": "stdout",
     "output_type": "stream",
     "text": [
      "CompletedProcess(args='cd ./class_data_3.3.1/data/ && python ./main.py < ../tests/01 > ../tests/01.a', returncode=0, stdout='', stderr='')\n",
      "CompletedProcess(args='cd ./class_data_3.3.1/data/ && python ./main.py < ../tests/02 > ../tests/02.a', returncode=0, stdout='', stderr='')\n",
      "CompletedProcess(args='cd ./class_data_3.3.1/data/ && python ./main.py < ../tests/03 > ../tests/03.a', returncode=0, stdout='', stderr='')\n",
      "CompletedProcess(args='cd ./class_data_3.3.1/data/ && python ./main.py < ../tests/04 > ../tests/04.a', returncode=0, stdout='', stderr='')\n",
      "CompletedProcess(args='cd ./class_data_3.3.1/data/ && python ./main.py < ../tests/05 > ../tests/05.a', returncode=0, stdout='', stderr='')\n"
     ]
    }
   ],
   "source": [
    "# Сгенерить ответы\n",
    "\n",
    "if task_type == \"function\":\n",
    "    # здесь название файла-решения participantSolution, чтобы скрипт run_tests работал на стороне контеста\n",
    "    with open(f\"./{dirname}/files/participantSolution.py\", mode=\"w\", encoding=\"utf-8\") as file:\n",
    "        file.write(solution_text)\n",
    "    commands = [\n",
    "        f\"python ./{dirname}/files/run_tests.py < ./{dirname}/tests/{test_number:02} > ./{dirname}/tests/{test_number:02}.a\"\n",
    "        for test_number in range(1, n_tests + 1)\n",
    "    ]\n",
    "\n",
    "    for cmd in commands:\n",
    "        process = subprocess.run(cmd, shell=True, text=True, capture_output=True)\n",
    "\n",
    "    subprocess.run(f\"del ./{dirname}/files/participantSolution.py\", shell=True, text=True, capture_output=True)\n",
    "elif \"file\" in task_type:\n",
    "    with open(f\"./{dirname}/data/main.py\", mode=\"w\", encoding=\"utf-8\") as file:\n",
    "        file.write(solution_text)\n",
    "\n",
    "    commands = [\n",
    "        f\"cd ./{dirname}/data/ && python ./main.py < ../tests/{test_number:02} > ../tests/{test_number:02}.a\"\n",
    "        for test_number in range(1, n_tests + 1)\n",
    "    ]\n",
    "    for cmd in commands:\n",
    "        process = subprocess.run(cmd, shell=True, text=True, capture_output=True)\n",
    "        print(process)\n",
    "\n",
    "    subprocess.run(f\"cd ./{dirname}/data/ && del ./main.py\", shell=True, text=True, capture_output=True)\n",
    "else:\n",
    "    # basic prog task\n",
    "    commands = [\n",
    "        f\"python ./{dirname}/solutions/main.py < ./{dirname}/tests/{test_number:02} > ./{dirname}/tests/{test_number:02}.a\"\n",
    "        for test_number in range(1, n_tests + 1)\n",
    "    ]\n",
    "    for cmd in commands:\n",
    "        process = subprocess.run(cmd, shell=True, text=True, capture_output=True)\n",
    "        print(process)"
   ]
  },
  {
   "cell_type": "code",
   "execution_count": 87,
   "metadata": {},
   "outputs": [
    {
     "data": {
      "text/plain": [
       "'./class_data_3.3.1/statements/russian/example.01.a'"
      ]
     },
     "execution_count": 87,
     "metadata": {},
     "output_type": "execute_result"
    }
   ],
   "source": [
    "# Копирование примера\n",
    "import shutil\n",
    "\n",
    "src_test = f\"./{dirname}/tests/01\"\n",
    "src_ans = f\"./{dirname}/tests/01.a\"\n",
    "dst_test = f\"./{dirname}/statements/russian/example.01\"\n",
    "dst_ans = f\"./{dirname}/statements/russian/example.01.a\"\n",
    "shutil.copy(src_test, dst_test)\n",
    "shutil.copy(src_ans, dst_ans)"
   ]
  },
  {
   "cell_type": "code",
   "execution_count": 88,
   "metadata": {},
   "outputs": [],
   "source": [
    "# Изменяем problem.xml\n",
    "with open(f\"./{dirname}/problem.xml\", mode=\"r\", encoding=\"utf-8\") as file:\n",
    "    content = file.read()\n",
    "\n",
    "\n",
    "content = content.replace(\"placeholder_task_name\", task_name)\n",
    "content = content.replace(\"placeholder_ntests\", str(n_tests - 1))\n",
    "\n",
    "\n",
    "if task_type == \"file+out\":\n",
    "    content = content.replace('output-file=\"\"', f'output-file=\"{output_filename}\"')\n",
    "\n",
    "with open(f\"./{dirname}/problem.xml\", mode=\"w\", encoding=\"utf-8\") as file:\n",
    "    file.write(content)"
   ]
  },
  {
   "cell_type": "code",
   "execution_count": 89,
   "metadata": {},
   "outputs": [],
   "source": [
    "# Поменять условие\n",
    "with open(f\"./{dirname}/statements/russian/problem.tex\", mode=\"r\", encoding=\"utf-8\") as file:\n",
    "    content = file.read()\n",
    "\n",
    "\n",
    "content = content.replace(\"placeholder_legend\", legend)\n",
    "content = content.replace(\"placeholder_input\", input_info)\n",
    "content = content.replace(\"placeholder_output\", output_info)\n",
    "content = content.replace(\"placeholder_note\", additional_notes)\n",
    "\n",
    "with open(f\"./{dirname}/statements/russian/problem.tex\", mode=\"w\", encoding=\"utf-8\") as file:\n",
    "    file.write(content)"
   ]
  },
  {
   "cell_type": "code",
   "execution_count": 90,
   "metadata": {},
   "outputs": [],
   "source": [
    "zip_folder(f\"{dst_dir}\", f\"{task_name}.zip\")"
   ]
  }
 ],
 "metadata": {
  "kernelspec": {
   "display_name": "Python 3",
   "language": "python",
   "name": "python3"
  },
  "language_info": {
   "codemirror_mode": {
    "name": "ipython",
    "version": 3
   },
   "file_extension": ".py",
   "mimetype": "text/x-python",
   "name": "python",
   "nbconvert_exporter": "python",
   "pygments_lexer": "ipython3",
   "version": "3.11.6"
  }
 },
 "nbformat": 4,
 "nbformat_minor": 2
}
