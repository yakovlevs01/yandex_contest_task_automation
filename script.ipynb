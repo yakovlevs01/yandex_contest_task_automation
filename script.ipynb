{
 "cells": [
  {
   "cell_type": "code",
   "execution_count": 1,
   "metadata": {},
   "outputs": [],
   "source": [
    "import subprocess\n",
    "import os\n",
    "import shutil\n",
    "import os\n",
    "import zipfile\n",
    "\n",
    "\n",
    "def zip_folder(folder_path, zip_file_name):\n",
    "    # Create a ZipFile object in write mode\n",
    "    with zipfile.ZipFile(zip_file_name, \"w\", zipfile.ZIP_DEFLATED) as zipf:\n",
    "        # Walk through the directory\n",
    "        for root, dirs, files in os.walk(folder_path):\n",
    "            for file in files:\n",
    "                # Create the complete filepath of file in directory\n",
    "                file_path = os.path.join(root, file)\n",
    "                # Add file to zip\n",
    "                zipf.write(file_path, os.path.relpath(file_path, folder_path))\n"
   ]
  },
  {
   "cell_type": "code",
   "execution_count": 2,
   "metadata": {},
   "outputs": [],
   "source": [
    "task_name = \"class_data_3.2.5\"\n",
    "type_of_task = \"function\"  # \"function\"\n",
    "\n",
    "solution_text = r\"\"\"\n",
    "def two_sum(nums, target):\n",
    "    dict = {}\n",
    "    for i in range(len(nums)):\n",
    "        if target - nums[i] not in dict:\n",
    "            dict[nums[i]] = i\n",
    "        else:\n",
    "            return (dict[target - nums[i]], i)\n",
    "\"\"\"\n",
    "\n",
    "\n",
    "legend = r\"\"\"Задача на подумать. \n",
    "\n",
    "Вам дан список целых чисел и некоторое целевое число, которое представляет собой сумму двух чисел из этого списка.\n",
    "\n",
    "Напишите функцию \\verb|two_sum|, которая принимает на вход список и число и возвращает индексы тех чисел из списка, сумма которых равна целевому числу. Подразумевается, что задача имеет ровно одно решение. Дважды использовать одно и то же число нельзя. Индексы возвращаются в виде кортежа. Для решения рекомендуется использовать словарь.\n",
    "\"\"\"\n",
    "\n",
    "input_info = r\"\\verb|list[int]|, \\verb|int|\"\n",
    "output_info = r\"\\verb|tuple[int, int]|\"\n",
    "additional_notes = (\n",
    "    r\"Ваше решение должно содержать только функцию с именем \\verb|two_sum|, без её вызова или ввода/вывода данных.\"\n",
    ")\n",
    "\n",
    "test_cases = [\n",
    "    \"[2, 7, 11, 15]\\n9\",\n",
    "    \"[-2, 1, 3, 7]\\n1\",\n",
    "    \"[0, 4, 3, 0]\\n0\",\n",
    "    \"[3, 3, 4, 5]\\n6\",\n",
    "    \"[3, 3, 4, 5]\\n8\",\n",
    "    \"[1000000000, 2000000000, 3000000000, 4000000000]\\n7000000000\",\n",
    "]\n"
   ]
  },
  {
   "cell_type": "code",
   "execution_count": 3,
   "metadata": {},
   "outputs": [
    {
     "data": {
      "text/plain": [
       "'./new_task'"
      ]
     },
     "execution_count": 3,
     "metadata": {},
     "output_type": "execute_result"
    }
   ],
   "source": [
    "# Копируем папку\n",
    "dirname = \"new_task\"\n",
    "src_dir = \"./sample\"\n",
    "dst_dir = \"./\" + dirname\n",
    "try:\n",
    "    shutil.rmtree(dst_dir)\n",
    "    os.remove(f\"./{task_name}.zip\")\n",
    "except FileNotFoundError:\n",
    "    pass\n",
    "shutil.copytree(src_dir, dst_dir)\n"
   ]
  },
  {
   "cell_type": "code",
   "execution_count": 4,
   "metadata": {},
   "outputs": [],
   "source": [
    "# Поменять ./new_task/solutions/main.py\n",
    "\n",
    "\n",
    "with open(f\"./{dirname}/solutions/main.py\", mode=\"w\", encoding=\"utf-8\") as file:\n",
    "    file.write(solution_text)\n"
   ]
  },
  {
   "cell_type": "code",
   "execution_count": 5,
   "metadata": {},
   "outputs": [],
   "source": [
    "# Сгенерить тесты\n",
    "\n",
    "\n",
    "# TODO: LLM-кой сделать тесты\n",
    "def create_test_cases() -> list[str]:\n",
    "    pass\n",
    "\n",
    "\n",
    "for i in range(len(test_cases)):\n",
    "    with open(f\"./{dirname}/tests/{i + 1:02}\", mode=\"w\", encoding=\"utf-8\") as file_test:\n",
    "        file_test.write(test_cases[i])\n"
   ]
  },
  {
   "cell_type": "code",
   "execution_count": 6,
   "metadata": {},
   "outputs": [],
   "source": [
    "# Сгенерить ответы\n",
    "\n",
    "\n",
    "# К этому моменту в папке ответов еще нет, так что это количество именно тестов\n",
    "n_tests = len([x for x in os.listdir(f\"./{dirname}/tests/\") if not x.endswith(\".a\")])\n",
    "\n",
    "\n",
    "if type_of_task == \"function\":\n",
    "    with open(f\"./{dirname}/files/participantSolution.py\", mode=\"w\", encoding=\"utf-8\") as file:\n",
    "        file.write(solution_text)\n",
    "\n",
    "    commands = [\n",
    "        f\"python ./{dirname}/files/run_tests.py < ./{dirname}/tests/{test_number:02} > ./{dirname}/tests/{test_number:02}.a\"\n",
    "        for test_number in range(1, n_tests + 1)\n",
    "    ]\n",
    "\n",
    "    for cmd in commands:\n",
    "        process = subprocess.run(cmd, shell=True, text=True, capture_output=True)\n",
    "\n",
    "    subprocess.run(f\"del ./{dirname}/files/participantSolution.py\", shell=True, text=True, capture_output=True)\n",
    "else:\n",
    "    # basic prog task\n",
    "    commands = [\n",
    "        f\"python ./{dirname}/solutions/main.py < ./{dirname}/tests/{test_number:02} > ./{dirname}/tests/{test_number:02}.a\"\n",
    "        for test_number in range(1, n_tests + 1)\n",
    "    ]\n",
    "    for cmd in commands:\n",
    "        process = subprocess.run(cmd, shell=True, text=True, capture_output=True)\n",
    "        print(process)\n"
   ]
  },
  {
   "cell_type": "code",
   "execution_count": 7,
   "metadata": {},
   "outputs": [
    {
     "data": {
      "text/plain": [
       "'./new_task/statements/russian/example.01.a'"
      ]
     },
     "execution_count": 7,
     "metadata": {},
     "output_type": "execute_result"
    }
   ],
   "source": [
    "# Копирование примера\n",
    "import shutil\n",
    "\n",
    "src_test = f\"./{dirname}/tests/01\"\n",
    "src_ans = f\"./{dirname}/tests/01.a\"\n",
    "dst_test = f\"./{dirname}/statements/russian/example.01\"\n",
    "dst_ans = f\"./{dirname}/statements/russian/example.01.a\"\n",
    "shutil.copy(src_test, dst_test)\n",
    "shutil.copy(src_ans, dst_ans)\n"
   ]
  },
  {
   "cell_type": "code",
   "execution_count": 8,
   "metadata": {},
   "outputs": [],
   "source": [
    "# Изменяем problem.xml\n",
    "with open(f\"./{dirname}/problem.xml\", mode=\"r\", encoding=\"utf-8\") as file:\n",
    "    content = file.read()\n",
    "\n",
    "\n",
    "content = content.replace(\"placeholder_task_name\", task_name)\n",
    "content = content.replace(\"placeholder_ntests\", str(n_tests))\n",
    "\n",
    "task_price = 1\n",
    "if task_price > 1:\n",
    "    content = content.replace(\"checker_1.py\", f\"checker_{task_price}.py\")\n",
    "    content = content.replace(\"files/checker_1.py\", f\"checker_{task_price}.py\")\n",
    "\n",
    "with open(f\"./{dirname}/problem.xml\", mode=\"w\", encoding=\"utf-8\") as file:\n",
    "    file.write(content)\n"
   ]
  },
  {
   "cell_type": "code",
   "execution_count": 9,
   "metadata": {},
   "outputs": [],
   "source": [
    "# Поменять условие\n",
    "with open(f\"./{dirname}/statements/russian/problem.tex\", mode=\"r\", encoding=\"utf-8\") as file:\n",
    "    content = file.read()\n",
    "\n",
    "\n",
    "content = content.replace(\"placeholder_legend\", legend)\n",
    "content = content.replace(\"placeholder_input\", input_info)\n",
    "content = content.replace(\"placeholder_output\", output_info)\n",
    "content = content.replace(\"placeholder_note\", additional_notes)\n",
    "\n",
    "with open(f\"./{dirname}/statements/russian/problem.tex\", mode=\"w\", encoding=\"utf-8\") as file:\n",
    "    file.write(content)\n"
   ]
  },
  {
   "cell_type": "code",
   "execution_count": 10,
   "metadata": {},
   "outputs": [],
   "source": [
    "zip_folder(f\"{dst_dir}\", f\"{task_name}.zip\")\n"
   ]
  }
 ],
 "metadata": {
  "kernelspec": {
   "display_name": "Python 3",
   "language": "python",
   "name": "python3"
  },
  "language_info": {
   "codemirror_mode": {
    "name": "ipython",
    "version": 3
   },
   "file_extension": ".py",
   "mimetype": "text/x-python",
   "name": "python",
   "nbconvert_exporter": "python",
   "pygments_lexer": "ipython3",
   "version": "3.11.6"
  }
 },
 "nbformat": 4,
 "nbformat_minor": 2
}
