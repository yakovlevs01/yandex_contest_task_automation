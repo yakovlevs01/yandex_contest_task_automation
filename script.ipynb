{
 "cells": [
  {
   "cell_type": "code",
   "execution_count": 305,
   "metadata": {},
   "outputs": [],
   "source": [
    "import subprocess\n",
    "import os\n",
    "import shutil\n",
    "import os\n",
    "import zipfile\n",
    "\n",
    "\n",
    "def zip_folder(folder_path, zip_file_name):\n",
    "    # Create a ZipFile object in write mode\n",
    "    with zipfile.ZipFile(zip_file_name, \"w\", zipfile.ZIP_DEFLATED) as zipf:\n",
    "        # Walk through the directory\n",
    "        for root, dirs, files in os.walk(folder_path):\n",
    "            for file in files:\n",
    "                # Create the complete filepath of file in directory\n",
    "                file_path = os.path.join(root, file)\n",
    "                # Add file to zip\n",
    "                zipf.write(file_path, os.path.relpath(file_path, folder_path))"
   ]
  },
  {
   "cell_type": "code",
   "execution_count": 306,
   "metadata": {},
   "outputs": [],
   "source": [
    "task_name = \"home_data_3.2.5\"\n",
    "type_of_task = \"function\"  # \"function\"\n",
    "\n",
    "solution_text = r\"\"\"\n",
    "def bin_ip(ips):\n",
    "    ip_dict = {}\n",
    "    for ip in ips:\n",
    "        octets = [int(o) for o in ip.split(\".\")]\n",
    "        ip_dict.update({(\"{:08b}\" * 4).format(*octets): ip})\n",
    "\n",
    "    return dict(sorted(ip_dict.items()))\n",
    "\"\"\"\n",
    "\n",
    "\n",
    "legend = r\"\"\"Иван работает сетевым администратором. \n",
    "От сервера ему приходит список IP-адресов в виде строк, которые ему нужно отсортировать в порядке возрастания. \n",
    "Однако обычная сортировка дала неверный результат, поэтому ему пришлось использовать конвертацию адреса в двоичный вид.\n",
    "\n",
    "Повторите за Иваном и напишите функцию \\verb|bin_ip|, которая принимает на вход список из IP-адресов в виде строк, а возвращает отсортированный словарь, в котором ключом будет строка с двоичным видом IP-адреса, а значением — сам IP-адрес. \n",
    "Бинарный вид IP-адреса получается из \"склеивания\" вместе бинарных значений каждого из четырех десятичных октетов.\"\"\"\n",
    "\n",
    "input_info = r\"\\verb|list[str]|\"\n",
    "output_info = r\"\\verb|dict[str, str]|\"\n",
    "additional_notes = r\"Ваше решение должно содержать только функцию с именем \\verb|bin_ip|, без её вызова или ввода/вывода данных с командной строки.\"\n",
    "\n",
    "test_cases = [\n",
    "    '[\"192.168.1.1\", \"192.168.0.101\"]',\n",
    "    '[\"10.1.1.1\", \"10.1.10.1\", \"10.1.2.1\", \"10.1.11.1\"]',\n",
    "    '[\"192.168.1.1\", \"10.0.0.1\", \"172.16.0.1\", \"255.255.255.255\", \"8.8.8.8\"]',\n",
    "    '[\"255.255.255.255\", \"172.16.0.1\", \"192.168.1.1\", \"10.0.0.1\", \"8.8.8.8\"]',\n",
    "    '[\"192.168.1.10\", \"10.0.0.10\", \"172.16.0.10\", \"8.8.8.10\"]',\n",
    "    '[\"0.0.0.0\", \"255.255.255.255\", \"127.0.0.1\", \"192.168.1.1\", \"10.0.0.1\"]',\n",
    "    '[\"192.168.0.1\", \"192.168.1.1\", \"192.168.2.1\", \"192.168.3.1\"]',\n",
    "    '[\"192.168.1.1\", \"192.168.1.1\", \"192.168.1.1\", \"192.168.1.1\"]',\n",
    "    '[\"10.0.0.1\", \"100.100.100.100\", \"200.200.200.200\", \"250.250.250.250\"]',\n",
    "]"
   ]
  },
  {
   "cell_type": "code",
   "execution_count": 307,
   "metadata": {},
   "outputs": [
    {
     "data": {
      "text/plain": [
       "'./home_data_3.2.5'"
      ]
     },
     "execution_count": 307,
     "metadata": {},
     "output_type": "execute_result"
    }
   ],
   "source": [
    "# Копируем папку\n",
    "dirname = task_name\n",
    "src_dir = \"./sample\"\n",
    "dst_dir = \"./\" + dirname\n",
    "# try:\n",
    "#     shutil.rmtree(dst_dir)\n",
    "#     os.remove(f\"./{task_name}.zip\")\n",
    "# except FileNotFoundError:\n",
    "#     pass\n",
    "shutil.copytree(src_dir, dst_dir)"
   ]
  },
  {
   "cell_type": "code",
   "execution_count": 308,
   "metadata": {},
   "outputs": [],
   "source": [
    "# Поменять ./new_task/solutions/main.py\n",
    "\n",
    "\n",
    "with open(f\"./{dirname}/solutions/main.py\", mode=\"w\", encoding=\"utf-8\") as file:\n",
    "    file.write(solution_text)"
   ]
  },
  {
   "cell_type": "code",
   "execution_count": 309,
   "metadata": {},
   "outputs": [],
   "source": [
    "# Сгенерить тесты\n",
    "\n",
    "\n",
    "# TODO: LLM-кой сделать тесты\n",
    "def create_test_cases() -> list[str]:\n",
    "    pass\n",
    "\n",
    "\n",
    "for i in range(len(test_cases)):\n",
    "    with open(f\"./{dirname}/tests/{i + 1:02}\", mode=\"w\", encoding=\"utf-8\") as file_test:\n",
    "        file_test.write(test_cases[i])"
   ]
  },
  {
   "cell_type": "code",
   "execution_count": 310,
   "metadata": {},
   "outputs": [],
   "source": [
    "# Сгенерить ответы\n",
    "\n",
    "\n",
    "# К этому моменту в папке ответов еще нет, так что это количество именно тестов\n",
    "n_tests = len([x for x in os.listdir(f\"./{dirname}/tests/\") if not x.endswith(\".a\")])\n",
    "\n",
    "\n",
    "if type_of_task == \"function\":\n",
    "    with open(f\"./{dirname}/files/participantSolution.py\", mode=\"w\", encoding=\"utf-8\") as file:\n",
    "        file.write(solution_text)\n",
    "\n",
    "    commands = [\n",
    "        f\"python ./{dirname}/files/run_tests.py < ./{dirname}/tests/{test_number:02} > ./{dirname}/tests/{test_number:02}.a\"\n",
    "        for test_number in range(1, n_tests + 1)\n",
    "    ]\n",
    "\n",
    "    for cmd in commands:\n",
    "        process = subprocess.run(cmd, shell=True, text=True, capture_output=True)\n",
    "\n",
    "    subprocess.run(f\"del ./{dirname}/files/participantSolution.py\", shell=True, text=True, capture_output=True)\n",
    "else:\n",
    "    # basic prog task\n",
    "    commands = [\n",
    "        f\"python ./{dirname}/solutions/main.py < ./{dirname}/tests/{test_number:02} > ./{dirname}/tests/{test_number:02}.a\"\n",
    "        for test_number in range(1, n_tests + 1)\n",
    "    ]\n",
    "    for cmd in commands:\n",
    "        process = subprocess.run(cmd, shell=True, text=True, capture_output=True)\n",
    "        print(process)"
   ]
  },
  {
   "cell_type": "code",
   "execution_count": 311,
   "metadata": {},
   "outputs": [
    {
     "data": {
      "text/plain": [
       "'./home_data_3.2.5/statements/russian/example.01.a'"
      ]
     },
     "execution_count": 311,
     "metadata": {},
     "output_type": "execute_result"
    }
   ],
   "source": [
    "# Копирование примера\n",
    "import shutil\n",
    "\n",
    "src_test = f\"./{dirname}/tests/01\"\n",
    "src_ans = f\"./{dirname}/tests/01.a\"\n",
    "dst_test = f\"./{dirname}/statements/russian/example.01\"\n",
    "dst_ans = f\"./{dirname}/statements/russian/example.01.a\"\n",
    "shutil.copy(src_test, dst_test)\n",
    "shutil.copy(src_ans, dst_ans)"
   ]
  },
  {
   "cell_type": "code",
   "execution_count": 312,
   "metadata": {},
   "outputs": [],
   "source": [
    "# Изменяем problem.xml\n",
    "with open(f\"./{dirname}/problem.xml\", mode=\"r\", encoding=\"utf-8\") as file:\n",
    "    content = file.read()\n",
    "\n",
    "\n",
    "content = content.replace(\"placeholder_task_name\", task_name)\n",
    "content = content.replace(\"placeholder_ntests\", str(n_tests - 1))\n",
    "\n",
    "task_price = 1\n",
    "if task_price > 1:\n",
    "    content = content.replace(\"checker_1.py\", f\"checker_{task_price}.py\")\n",
    "    content = content.replace(\"files/checker_1.py\", f\"checker_{task_price}.py\")\n",
    "\n",
    "with open(f\"./{dirname}/problem.xml\", mode=\"w\", encoding=\"utf-8\") as file:\n",
    "    file.write(content)"
   ]
  },
  {
   "cell_type": "code",
   "execution_count": 313,
   "metadata": {},
   "outputs": [],
   "source": [
    "# Поменять условие\n",
    "with open(f\"./{dirname}/statements/russian/problem.tex\", mode=\"r\", encoding=\"utf-8\") as file:\n",
    "    content = file.read()\n",
    "\n",
    "\n",
    "content = content.replace(\"placeholder_legend\", legend)\n",
    "content = content.replace(\"placeholder_input\", input_info)\n",
    "content = content.replace(\"placeholder_output\", output_info)\n",
    "content = content.replace(\"placeholder_note\", additional_notes)\n",
    "\n",
    "with open(f\"./{dirname}/statements/russian/problem.tex\", mode=\"w\", encoding=\"utf-8\") as file:\n",
    "    file.write(content)"
   ]
  },
  {
   "cell_type": "code",
   "execution_count": 314,
   "metadata": {},
   "outputs": [],
   "source": [
    "zip_folder(f\"{dst_dir}\", f\"{task_name}.zip\")"
   ]
  }
 ],
 "metadata": {
  "kernelspec": {
   "display_name": "Python 3",
   "language": "python",
   "name": "python3"
  },
  "language_info": {
   "codemirror_mode": {
    "name": "ipython",
    "version": 3
   },
   "file_extension": ".py",
   "mimetype": "text/x-python",
   "name": "python",
   "nbconvert_exporter": "python",
   "pygments_lexer": "ipython3",
   "version": "3.11.6"
  }
 },
 "nbformat": 4,
 "nbformat_minor": 2
}
