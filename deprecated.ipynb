{
 "cells": [
  {
   "cell_type": "code",
   "execution_count": null,
   "metadata": {},
   "outputs": [
    {
     "data": {
      "text/plain": [
       "['home_beginner_2.1.1',\n",
       " 'home_beginner_2.1.2',\n",
       " 'home_beginner_2.1.3',\n",
       " 'home_beginner_2.2.1',\n",
       " 'home_beginner_2.2.2',\n",
       " 'home_beginner_2.2.3',\n",
       " 'home_beginner_2.2.4',\n",
       " 'home_beginner_2.3.1',\n",
       " 'home_beginner_2.3.2',\n",
       " 'home_beginner_2.3.3',\n",
       " 'home_beginner_2.4.1',\n",
       " 'home_beginner_2.4.2',\n",
       " 'home_beginner_2.4.3',\n",
       " 'home_beginner_2.5.1',\n",
       " 'home_beginner_2.5.2',\n",
       " 'home_beginner_2.5.3',\n",
       " 'home_beginner_2.6.1',\n",
       " 'home_beginner_2.6.2']"
      ]
     },
     "metadata": {},
     "output_type": "display_data"
    }
   ],
   "source": [
    "def list_of_tasks_from_str(text: str) -> list[str]:\n",
    "    return [task for task in text.split(\" \")]\n",
    "\n",
    "\n",
    "chain_for_task_names = (\n",
    "    {\"context\": retriever, \"question\": RunnablePassthrough()}\n",
    "    | prompt\n",
    "    | model\n",
    "    | StrOutputParser()\n",
    "    | list_of_tasks_from_str\n",
    ")\n",
    "chain_for_task_names.invoke(\n",
    "    \"What are the names of tasks? Task names have following format: <type>_<level>_<number1.number2.number3>, everything that follows this format counts as task name. Return them separared by spaces. Your message should not contain any other text.\"\n",
    ")"
   ]
  },
  {
   "cell_type": "markdown",
   "metadata": {},
   "source": [
    "# Простейший запрос "
   ]
  },
  {
   "cell_type": "code",
   "execution_count": null,
   "metadata": {},
   "outputs": [],
   "source": [
    "from langchain_core.output_parsers import StrOutputParser\n",
    "from langchain_core.prompts import ChatPromptTemplate\n",
    "from langchain_openai import ChatOpenAI\n",
    "\n",
    "prompt = ChatPromptTemplate.from_template(\"tell me a joke about {foo}\")\n",
    "model = ChatOpenAI(\n",
    "    temperature=0, model=\"gpt-3.5-turbo-1106\", api_key=os.getenv(\"OPENAI_API_KEY\")\n",
    ")\n",
    "chain = prompt | model | StrOutputParser()\n",
    "chain.invoke({\"foo\": \"bears\"})"
   ]
  },
  {
   "cell_type": "markdown",
   "metadata": {},
   "source": [
    "# С контекстом\n"
   ]
  },
  {
   "cell_type": "code",
   "execution_count": null,
   "metadata": {},
   "outputs": [],
   "source": [
    "from langchain_community.vectorstores import FAISS\n",
    "from langchain_openai import OpenAIEmbeddings\n",
    "\n",
    "# Весь текст в один стор\n",
    "vectorstore = FAISS.from_texts([data[0].page_content], embedding=OpenAIEmbeddings())\n",
    "retriever = vectorstore.as_retriever()"
   ]
  },
  {
   "cell_type": "code",
   "execution_count": null,
   "metadata": {},
   "outputs": [],
   "source": [
    "from langchain.output_parsers.openai_functions import JsonOutputFunctionsParser\n",
    "from langchain_core.runnables import RunnablePassthrough\n",
    "\n",
    "chain = (\n",
    "    {\"context\": retriever, \"question\": RunnablePassthrough()}\n",
    "    | prompt\n",
    "    | model.bind(function_call={\"name\": \"search_task\"}, functions=functions)\n",
    "    | JsonOutputFunctionsParser()\n",
    ")"
   ]
  },
  {
   "cell_type": "markdown",
   "metadata": {},
   "source": [
    "# Норм версия, но объединил в большую цепочку"
   ]
  },
  {
   "cell_type": "code",
   "execution_count": null,
   "metadata": {},
   "outputs": [],
   "source": [
    "task_info_func = [\n",
    "    {\n",
    "        \"name\": \"task_info\",\n",
    "        \"description\": \"Analyze context and return task description and solution\",\n",
    "        \"parameters\": {\n",
    "            \"type\": \"object\",\n",
    "            \"properties\": {\n",
    "                \"name\": {\n",
    "                    \"type\": \"string\",\n",
    "                    \"description\": \"Name of the task. Example: home_beginner_2.5.3\",\n",
    "                },\n",
    "                \"description\": {\n",
    "                    \"type\": \"string\",\n",
    "                    \"description\": \"Description of the task.  Example: 'Напишите программу, которая считывает два целых числа и выводит их сумму'. If there are no description provided, return empty string.\",\n",
    "                },\n",
    "                \"solution\": {\n",
    "                    \"type\": \"string\",\n",
    "                    \"description\": \"Solution of task written Python (any python code located in task description, with input and print). Example: 'n=int(input())\\nm=int(input())\\nprint(n+m)'. If there are no solution provided, return empty string\",\n",
    "                },\n",
    "            },\n",
    "            \"required\": [\"description\", \"solution\"],\n",
    "        },\n",
    "    }\n",
    "]\n",
    "\n",
    "prompt = ChatPromptTemplate.from_template(\n",
    "    \"\"\"Answer the question based only on the following context:\n",
    "{context}\n",
    "\n",
    "Question: {question}\n",
    "\"\"\"\n",
    ")\n",
    "\n",
    "chain_with_prompt_and_parser = (\n",
    "    prompt\n",
    "    | model.bind(function_call={\"name\": \"task_info\"}, functions=task_info_func)\n",
    "    | JsonOutputFunctionsParser()\n",
    ")"
   ]
  },
  {
   "cell_type": "code",
   "execution_count": null,
   "metadata": {},
   "outputs": [],
   "source": [
    "check_func = [\n",
    "    {\n",
    "        \"name\": \"solution_check\",\n",
    "        \"description\": \"Check correctfulness of solution\",\n",
    "        \"parameters\": {\n",
    "            \"type\": \"object\",\n",
    "            \"properties\": {\n",
    "                \"answer\": {\n",
    "                    \"type\": \"boolean\",\n",
    "                    \"description\": \"Is solution correct or not for this task?\",\n",
    "                }\n",
    "            },\n",
    "            \"required\": [\"answer\"],\n",
    "        },\n",
    "    }\n",
    "]\n",
    "\n",
    "\n",
    "prompt_for_check = ChatPromptTemplate.from_template(\n",
    "    \"\"\"Is this solution correct for the following task?\n",
    "Solution: {solution}\n",
    "Task: {description}\n",
    "\"\"\"\n",
    ")\n",
    "\n",
    "check_chain = (\n",
    "    {\n",
    "        \"solution\": RunnablePassthrough(),\n",
    "        \"description\": RunnablePassthrough(),\n",
    "    }\n",
    "    | prompt_for_check\n",
    "    | model.bind(function_call={\"name\": \"solution_check\"}, functions=check_func)\n",
    "    | JsonOutputFunctionsParser()\n",
    ")\n",
    "\n",
    "ver = []\n",
    "for task_data in tasks_data:\n",
    "    ver.append(\n",
    "        check_chain.invoke(\n",
    "            {\n",
    "                \"solution\": task_data[\"solution\"],\n",
    "                \"description\": task_data[\"description\"],\n",
    "            }\n",
    "        )\n",
    "    )\n",
    "print(ver)"
   ]
  },
  {
   "cell_type": "code",
   "execution_count": null,
   "metadata": {},
   "outputs": [
    {
     "name": "stdout",
     "output_type": "stream",
     "text": [
      "home_beginner_2.1.1: {'answer': True}\n",
      "home_beginner_2.1.2: {'answer': True}\n",
      "home_beginner_2.1.3: {'answer': True}\n",
      "home_beginner_2.2.1: {'answer': False}\n",
      "home_beginner_2.2.2: {'answer': False}\n",
      "home_beginner_2.2.3: {'answer': False}\n",
      "home_beginner_2.2.4: {'answer': False}\n",
      "home_beginner_2.3.1: {'answer': True}\n",
      "home_beginner_2.3.2: {'answer': True}\n",
      "home_beginner_2.3.3: {'answer': True}\n",
      "home_beginner_2.4.1: {'answer': False}\n",
      "home_beginner_2.4.2: {'answer': False}\n",
      "home_beginner_2.4.3: {'answer': False}\n",
      "home_beginner_2.5.1: {'answer': True}\n",
      "home_beginner_2.5.2: {'answer': True}\n",
      "home_beginner_2.5.3: {'answer': True}\n",
      "home_beginner_2.6.1: {'answer': True}\n",
      "home_beginner_2.6.2: {'answer': True}\n"
     ]
    }
   ],
   "source": [
    "for i in range(len(tasknames)):\n",
    "    print(f\"{tasknames[i]}: {ver[i]}\")"
   ]
  },
  {
   "cell_type": "code",
   "execution_count": null,
   "metadata": {},
   "outputs": [
    {
     "name": "stdout",
     "output_type": "stream",
     "text": [
      "{'name': 'home_beginner_2.1.1', 'description': 'Напишите программу, которая вводит строку и ищет ее в строке \\ns = \"I Do Love Python! Python is Cool!!!\"\\nЕсли искомая строка найдена, программа выводит на экран «найдено». В противном случае выводится «не найдено». Используйте один неполный условный оператор if.', 'solution': 's = \"I Do Love Python! Python is Cool!!!\"\\nc = input()\\nres = \"не найдено\"\\nif c in s:\\n    res = \"найдено\"\\nprint(res)'}\n",
      "{'name': 'home_beginner_2.1.2', 'description': 'Напишите программу, которая вводит два целых числа и выводит результат «делится», если первое число делится на второе, и «не делится» в противном случае. Используйте один неполный условный оператор if.', 'solution': 'n = int(input())\\nm = int(input())\\nres = \"не делится\"\\nif n % m == 0:\\n    res = \"делится\"\\nprint(res)\\n'}\n",
      "{'name': 'home_beginner_2.1.3', 'description': 'Напишите программу, которая вводит два числа и выводит на экран только одну из строк по результатам проверки:\\nОба нечетные\\nПервое четное\\nВторое четное\\nОба четны\\nДля проверки условий используйте только неполные условные операторы if.', 'solution': \"n = int(input())\\nm = int(input())\\nres = 1\\nif m%2 == 0:\\n    res = 2\\nif n%2 == 0:\\n    res = 3\\n    if m%2 == 0:\\n        res = 4\\nif res == 1: print('Оба нечетные')\\nif res == 2: print('Второе четное')\\nif res == 3: print('Первое четное')\\nif res == 4: print('Оба четные')\"}\n",
      "{'name': 'home_beginner_2.2.1', 'description': 'home 3.1', 'solution': ''}\n",
      "{'name': 'home_beginner_2.2.2', 'description': 'home 3.2', 'solution': ''}\n",
      "{'name': 'home_beginner_2.2.3', 'description': 'home 3.3', 'solution': ''}\n",
      "{'name': 'home_beginner_2.2.4', 'description': 'home 3.4\\nЗанятие 3\\nДомашняя работа', 'solution': ''}\n",
      "{'name': 'home_beginner_2.3.1', 'description': 'Напишите программу, которая вводит строку, при помощи цикла for подсчитывает количество символов в ней и выводит на экран.', 'solution': 's = input()\\nn = 0\\nfor c in s:\\n    n += 1\\nprint(n)\\n'}\n",
      "{'name': 'home_beginner_2.3.2', 'description': '\\nНапишите программу, которая вводит строку из заглавных английских букв, при помощи цикла for подсчитывает количество гласных букв в ней, и выводит это число на экран.', 'solution': 'a = \"AEIOUY\"\\ns = input()\\nn = 0\\nfor c in s:\\n    if c in a:\\n        n += 1\\nprint(n)\\n'}\n",
      "{'name': 'home_beginner_2.3.3', 'description': 'Напишите программу, которая вводит строку из заглавных английских букв, при помощи цикла for подсчитывает количество гласных и согласных букв в ней, и выводит это числа на экран.', 'solution': 'a = \"AEIOUY\"\\ns = input()\\nn = 0\\nm = 0\\nfor c in s:\\n    if c in a:\\n        n += 1\\n    else:\\n        m += 1\\nprint(n, m)'}\n",
      "{'name': 'home_beginner_2.4.1', 'description': 'home 5.1', 'solution': ''}\n",
      "{'name': 'home_beginner_2.4.2', 'description': 'home 5.2', 'solution': ''}\n",
      "{'name': 'home_beginner_2.4.3', 'description': 'Занятие 5\\nДомашняя работа', 'solution': '# Solution\\ndef sum_of_digits(n):\\n    total = 0\\n    while n > 0:\\n        total += n % 10\\n        n = n // 10\\n    return total'}\n",
      "{'name': 'home_beginner_2.5.1', 'description': 'Напишите программу, которая при помощи цикла for и интервала range() с тремя аргументами выводит определенные символы из строки s = \"ABCDEFGHIJKLMNOP\", таким образом, что получается:\\nOMKIGEC', 'solution': 's = \"ABCDEFGHIJKLMNOP\"\\nfor i in range(len(s)-2,0,-2):\\n    print(s[i], end=\"\", sep=\"\")'}\n",
      "{'name': 'home_beginner_2.5.2', 'description': '\\nНапишите программу, которая вводит число и выводит произведение его нечетных цифр, используя цикл for.', 'solution': '\\nn = input()\\nodd = 1\\nfor i in range(len(n)-1,-1,-2):\\n    odd *= int(n[i])\\nprint(odd)\\n'}\n",
      "{'name': 'home_beginner_2.5.3', 'description': 'PROBLEM', 'solution': 'PROBLEM'}\n",
      "{'name': 'home_beginner_2.6.1', 'description': 'Напишите программу с циклом while, которая выводит те же значения, что и код: for i in range(12,-2,-4): print(i)', 'solution': 'i = 12\\nwhile i > -2:\\n    print(i)\\n    i -= 4\\n'}\n",
      "{'name': 'home_beginner_2.6.2', 'description': 'Напишите программу, которая вводит только четные числа. Она должна ввести ровно 6 таких чисел и вывести их произведение.', 'solution': 'prod = 1\\nfor i in range(6):\\n    n = int(input())\\n    while n%2 != 0:\\n        print(\"Введите четное число!\")\\n        n = int(input())\\n    prod *= n\\nprint(prod)'}\n"
     ]
    }
   ],
   "source": [
    "print(*tasks_data, sep=\"\\n\")"
   ]
  },
  {
   "cell_type": "code",
   "execution_count": null,
   "metadata": {},
   "outputs": [
    {
     "name": "stderr",
     "output_type": "stream",
     "text": [
      "100%|██████████| 18/18 [01:30<00:00,  5.02s/it]\n"
     ]
    }
   ],
   "source": [
    "tasks_data = []\n",
    "for i in tqdm(range(len(splitted_texts))):\n",
    "    retriever = FAISS.from_texts(\n",
    "        [splitted_texts[i]],\n",
    "        embedding=OpenAIEmbeddings(),\n",
    "    ).as_retriever()\n",
    "\n",
    "    chain = {\n",
    "        \"context\": retriever,\n",
    "        \"question\": RunnablePassthrough(),\n",
    "    } | chain_with_prompt_and_parser\n",
    "\n",
    "    try:\n",
    "        tasks_data.append(\n",
    "            chain.invoke(\n",
    "                f\"Tell me about {tasknames[i]} and return it's solution. Return empty string if there are no code problem description or solution\",\n",
    "            )\n",
    "        )\n",
    "    except Exception as e:\n",
    "        print(e)\n",
    "        tasks_data.append(\n",
    "            {\"name\": tasknames[i], \"description\": \"PROBLEM\", \"solution\": \"PROBLEM\"}\n",
    "        )\n",
    "        continue"
   ]
  },
  {
   "cell_type": "markdown",
   "metadata": {},
   "source": []
  },
  {
   "cell_type": "code",
   "execution_count": null,
   "metadata": {},
   "outputs": [],
   "source": [
    "loader = Docx2txtLoader(\"./home_beginner_2.docx\")\n",
    "document_content = loader.load()[0].page_content"
   ]
  },
  {
   "cell_type": "code",
   "execution_count": null,
   "metadata": {},
   "outputs": [],
   "source": [
    "tasknames = filter_tasknames_from_str(document_content)\n",
    "text = text_preprocess(document_content)\n",
    "splitted_texts = split_text_by_tasknames(text, tasknames)"
   ]
  },
  {
   "cell_type": "code",
   "execution_count": null,
   "metadata": {},
   "outputs": [],
   "source": [
    "# Для тестов длинных цепочек 2\n",
    "funcs = [\n",
    "    {\n",
    "        \"name\": \"task_info\",\n",
    "        \"description\": \"Analyze context and return task description and solution\",\n",
    "        \"parameters\": {\n",
    "            \"type\": \"object\",\n",
    "            \"properties\": {\n",
    "                \"name\": {\n",
    "                    \"type\": \"string\",\n",
    "                    \"description\": \"Name of the task. Example: home_beginner_2.5.3\",\n",
    "                },\n",
    "                \"description\": {\n",
    "                    \"type\": \"string\",\n",
    "                    \"description\": \"Description of the task.  Example: 'Напишите программу, которая считывает два целых числа и выводит их сумму'. If there are no description provided, return empty string.\",\n",
    "                },\n",
    "                \"solution\": {\n",
    "                    \"type\": \"string\",\n",
    "                    \"description\": \"Solution of task written Python (any python code located in task description, with input and print). Example: 'n=int(input())\\nm=int(input())\\nprint(n+m)'. If there are no solution provided, return empty string\",\n",
    "                },\n",
    "            },\n",
    "            \"required\": [\"description\", \"solution\"],\n",
    "        },\n",
    "    },\n",
    "    {\n",
    "        \"name\": \"solution_check\",\n",
    "        \"description\": \"Check correctfulness of solution\",\n",
    "        \"parameters\": {\n",
    "            \"type\": \"object\",\n",
    "            \"properties\": {\n",
    "                \"verificated\": {\n",
    "                    \"type\": \"boolean\",\n",
    "                    \"description\": \"Is solution correct or not for this task?\",\n",
    "                }\n",
    "            },\n",
    "            \"required\": [\"verificated\"],\n",
    "        },\n",
    "    },\n",
    "]\n",
    "\n",
    "\n",
    "chain_with_prompt_and_parser = (\n",
    "    ChatPromptTemplate.from_template(\n",
    "        \"\"\"Answer the question based only on the following context:\n",
    "{context}\n",
    "\n",
    "Question: {question}\n",
    "\"\"\"\n",
    "    )\n",
    "    | model.bind(function_call={\"name\": \"task_info\"}, functions=funcs)\n",
    "    | JsonOutputFunctionsParser()\n",
    "    | {\"task_data\": RunnablePassthrough()}\n",
    ")\n",
    "\n",
    "\n",
    "i = 0\n",
    "\n",
    "chain_parsing = {\n",
    "    \"context\": FAISS.from_texts(\n",
    "        [splitted_texts[i]],\n",
    "        embedding=OpenAIEmbeddings(),\n",
    "    ).as_retriever(),\n",
    "    \"question\": RunnablePassthrough(),\n",
    "} | chain_with_prompt_and_parser"
   ]
  },
  {
   "cell_type": "code",
   "execution_count": null,
   "metadata": {},
   "outputs": [],
   "source": [
    "def form_dict_with_props(d):\n",
    "    return dict(d[\"task_data\"] | d[\"verificated\"])"
   ]
  },
  {
   "cell_type": "code",
   "execution_count": null,
   "metadata": {},
   "outputs": [
    {
     "data": {
      "text/plain": [
       "{'name': 'home_beginner_2.1.1',\n",
       " 'description': 'Напишите программу, которая вводит строку и ищет ее в строке \\ns = \"I Do Love Python! Python is Cool!!!\"\\nЕсли искомая строка найдена, программа выводит на экран «найдено». В противном случае выводится «не найдено». Используйте один неполный условный оператор if.',\n",
       " 'solution': 's = \"I Do Love Python! Python is Cool!!!\"\\nc = input()\\nres = \"не найдено\"\\nif c in s:\\n    res = \"найдено\"\\nprint(res)',\n",
       " 'verificated': True}"
      ]
     },
     "metadata": {},
     "output_type": "display_data"
    }
   ],
   "source": [
    "verification_chain = (\n",
    "    itemgetter(\"task_data\")\n",
    "    | ChatPromptTemplate.from_template(\n",
    "        \"\"\"Is this solution correct for the following task?\n",
    "Solution: {solution}\n",
    "Task: {description}\n",
    "\"\"\"\n",
    "    )\n",
    "    | model.bind(function_call={\"name\": \"solution_check\"}, functions=funcs)\n",
    "    | JsonOutputFunctionsParser()\n",
    ")\n",
    "\n",
    "chain_main = (\n",
    "    chain_parsing\n",
    "    | {\n",
    "        \"task_data\": itemgetter(\"task_data\"),\n",
    "        \"verificated\": verification_chain,\n",
    "    }\n",
    "    | form_dict_with_props\n",
    ")\n",
    "chain_main.invoke(\n",
    "    f\"Tell me about {tasknames[i]} and return it's solution. Return empty string if there are no code problem description or solution\"\n",
    ")"
   ]
  }
 ],
 "metadata": {
  "kernelspec": {
   "display_name": "env_tasker",
   "language": "python",
   "name": "python3"
  },
  "language_info": {
   "name": "python",
   "version": "3.11.6"
  }
 },
 "nbformat": 4,
 "nbformat_minor": 2
}
